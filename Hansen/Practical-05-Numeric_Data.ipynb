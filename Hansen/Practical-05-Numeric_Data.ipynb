{
 "cells": [
  {
   "cell_type": "markdown",
   "metadata": {},
   "source": [
    "<div style=\"float:left\">\n",
    "    <h1 style=\"width:450px\">Practical 5: Pandas</h1>\n",
    "    <h2 style=\"width:450px\">Easing into EDA</h2>\n",
    "</div>\n",
    "<div style=\"float:right\"><img width=\"100\" src=\"https://github.com/jreades/i2p/raw/master/img/casa_logo.jpg\" /></div>"
   ]
  },
  {
   "cell_type": "markdown",
   "metadata": {},
   "source": [
    "<div class=\"alert alert-block alert-warning\">\n",
    "    <b>&#9888; Important</b>: Conceptually, this practical links together <em>all</em> of the preceding ones; you will find data structures, classes and methods, reading CSV files from a remote location, <tt>numpy</tt>, and more than you ever wanted to know about data types in Python. Making these connections will make the remainder of term much, much easier, so it might be worth <b>revising this practical</b> over Reading Week so make sure it all makes sense!</div>"
   ]
  },
  {
   "cell_type": "markdown",
   "metadata": {},
   "source": [
    "## The Importance of Data Exploration\n",
    "\n",
    "After a few weeks getting to grips with Python, we're now going to start working with some real data. One of the first things that we do when working with any new data set is to familiarise ourselves with it. There are a _huge_ number of ways to do this, but there are no shortcuts to:\n",
    "\n",
    "1. Reading about the data (how it was collected, what the sample size was, etc.)\n",
    "2. Reviewing any accompanying metadata (data about the data, column specs, etc.)\n",
    "3. Looking at the data itself at the row- and column-levels\n",
    "4. Producing descriptive statistics\n",
    "5. Visualising the data using plots\n",
    "\n",
    "You should use _all_ of these together to really understand where the data came from, how it was handled, and whether there are gaps or other problems. If you're wondering which comes first, the concept of _start with a chart_ is always good... though we've obviously not _quite_ gotten there yet! This week we want you to get a handle on pandas itself, so although we will do some plotting of charts, we'll focus on 3-4 with a tiny bit of 5. There will be much more on plotting charts next week, and you should be looking into 1 and 2 yourself based on what's been written both on the [Inside Airbnb web site](http://insideairbnb.com/about.html) and in the [suggested readings](https://github.com/jreades/i2p/blob/master/bib/Bibliography.md).\n",
    "\n",
    "So although they don't need to be done now, you probably want to add both those links to your reading list!"
   ]
  },
  {
   "cell_type": "markdown",
   "metadata": {},
   "source": [
    "### Import Required Libraries\n",
    "\n",
    "It's always sensible to import these at the top of the notebook:\n",
    "\n",
    "1. Because it lets everyone know what they need to have installed to run your code.\n",
    "2. It's easy to run this and then skip further down the notebook if you have already done *some* of the work and saved an intermediate output."
   ]
  },
  {
   "cell_type": "code",
   "execution_count": 1,
   "metadata": {},
   "outputs": [],
   "source": [
    "import os\n",
    "import numpy as np\n",
    "import pandas as pd"
   ]
  },
  {
   "cell_type": "markdown",
   "metadata": {},
   "source": [
    "## Task 1: Reading and Writing Data\n",
    "\n",
    "Pandas can do a *lot*, and you might be feeling a little intimidated by this, but here's the thing: we were already writing something like pandas from scratch! That's because pandas takes a **column-view of data** in the same way that our **Dictionary-of-Lists** did, it's just that it's got a lot more features than our 'simple' tool did. That's why the documentation is so much more forbidding and why pandas is so much more powerful.\n",
    "\n",
    "But at its heart, a pandas `Data Frame` (`df` for short) is a collection of `Data Series` objects (i.e. columns) with an index. Each Series is like one of our column-lists from the last notebook. And the `df` is like the dictionary that held the data together. So you've seen this before and you already _know_ what's going on... or at least you now have an _analogy_ that you can use to make sense of pandas:\n",
    "```python\n",
    "myDataFrame = {\n",
    "    '<column_name_1>': <Series_1>,\n",
    "    '<column_name_2>': <Series_2>,\n",
    "    '<column_name_3>': <Series_3>\n",
    "}\n",
    "``` \n",
    "\n",
    "And pandas gives us two ways to access that data:\n",
    "\n",
    "1. Using a method syntax: `myDataFrame.column_name_1`\n",
    "2. Using a dictionary syntax: `myDataFrame['column_name_1']`\n",
    "\n",
    "Depending on which syntax you prefer, you can use these interchangeably. The only times you *have* to choose one over the other are: a) assignment (e.g. `myDataFrame['column_name_1'] = ...`); b) columns with spaces in their names (e.g. `myDataFrame['Column Name 1')`)."
   ]
  },
  {
   "cell_type": "markdown",
   "metadata": {},
   "source": [
    "### Task 1.1: Read Remote Data\n",
    "\n",
    "<div class=\"alert alert-block alert-success\"><b>Difficulty level</b>: Low (this time around).</div>\n",
    "\n",
    "You will need to do several things here to read the remote, compressed CSV file specified by `url` into a data frame called `df`. Setting `low_memory=False` ensures that pandas will try to load the entire data set _before_ guessing the data format! Obviously, with very large files this is probably a bad idea and it's possible to force a particular column type while readng in the data as well. For larger data sets there are platforms like [Dask](https://dask.org/) (see, eg, [this](https://towardsdatascience.com/why-and-how-to-use-dask-with-big-data-746e34dac7c3)), and beyond that are [other options](https://towardsdatascience.com/scaling-pandas-comparing-dask-ray-modin-vaex-and-rapids-c74c85a4e59c)."
   ]
  },
  {
   "cell_type": "code",
   "execution_count": 15,
   "metadata": {},
   "outputs": [
    {
     "name": "stdout",
     "output_type": "stream",
     "text": [
      "Data frame is 69,351 x 75\n"
     ]
    }
   ],
   "source": [
    "# Set download URL\n",
    "#host = 'https://orca.casa.ucl.ac.uk'\n",
    "#path = '~jreades/data/2022-09-10-listings.csv.gz'\n",
    "#url  = f'{host}/{path}'\n",
    "\n",
    "# your code here\n",
    "df = pd.read_csv('2022-09-10-listings.csv.gz', compression='gzip', low_memory=False)\n",
    "print(f\"Data frame is {df.shape[0]:,} x {df.shape[1]}\")"
   ]
  },
  {
   "cell_type": "code",
   "execution_count": 18,
   "metadata": {},
   "outputs": [
    {
     "data": {
      "text/html": [
       "<div>\n",
       "<style scoped>\n",
       "    .dataframe tbody tr th:only-of-type {\n",
       "        vertical-align: middle;\n",
       "    }\n",
       "\n",
       "    .dataframe tbody tr th {\n",
       "        vertical-align: top;\n",
       "    }\n",
       "\n",
       "    .dataframe thead th {\n",
       "        text-align: right;\n",
       "    }\n",
       "</style>\n",
       "<table border=\"1\" class=\"dataframe\">\n",
       "  <thead>\n",
       "    <tr style=\"text-align: right;\">\n",
       "      <th></th>\n",
       "      <th>id</th>\n",
       "      <th>listing_url</th>\n",
       "      <th>scrape_id</th>\n",
       "      <th>last_scraped</th>\n",
       "      <th>source</th>\n",
       "      <th>name</th>\n",
       "      <th>description</th>\n",
       "      <th>neighborhood_overview</th>\n",
       "      <th>picture_url</th>\n",
       "      <th>host_id</th>\n",
       "      <th>...</th>\n",
       "      <th>review_scores_communication</th>\n",
       "      <th>review_scores_location</th>\n",
       "      <th>review_scores_value</th>\n",
       "      <th>license</th>\n",
       "      <th>instant_bookable</th>\n",
       "      <th>calculated_host_listings_count</th>\n",
       "      <th>calculated_host_listings_count_entire_homes</th>\n",
       "      <th>calculated_host_listings_count_private_rooms</th>\n",
       "      <th>calculated_host_listings_count_shared_rooms</th>\n",
       "      <th>reviews_per_month</th>\n",
       "    </tr>\n",
       "  </thead>\n",
       "  <tbody>\n",
       "    <tr>\n",
       "      <th>0</th>\n",
       "      <td>13913</td>\n",
       "      <td>https://www.airbnb.com/rooms/13913</td>\n",
       "      <td>20220910194334</td>\n",
       "      <td>2022-09-11</td>\n",
       "      <td>city scrape</td>\n",
       "      <td>Holiday London DB Room Let-on going</td>\n",
       "      <td>My bright double bedroom with a large window h...</td>\n",
       "      <td>Finsbury Park is a friendly melting pot commun...</td>\n",
       "      <td>https://a0.muscache.com/pictures/miso/Hosting-...</td>\n",
       "      <td>54730</td>\n",
       "      <td>...</td>\n",
       "      <td>4.93</td>\n",
       "      <td>4.75</td>\n",
       "      <td>4.82</td>\n",
       "      <td>NaN</td>\n",
       "      <td>f</td>\n",
       "      <td>2</td>\n",
       "      <td>1</td>\n",
       "      <td>1</td>\n",
       "      <td>0</td>\n",
       "      <td>0.20</td>\n",
       "    </tr>\n",
       "    <tr>\n",
       "      <th>1</th>\n",
       "      <td>15400</td>\n",
       "      <td>https://www.airbnb.com/rooms/15400</td>\n",
       "      <td>20220910194334</td>\n",
       "      <td>2022-09-11</td>\n",
       "      <td>city scrape</td>\n",
       "      <td>Bright Chelsea  Apartment. Chelsea!</td>\n",
       "      <td>Lots of windows and light.  St Luke's Gardens ...</td>\n",
       "      <td>It is Chelsea.</td>\n",
       "      <td>https://a0.muscache.com/pictures/428392/462d26...</td>\n",
       "      <td>60302</td>\n",
       "      <td>...</td>\n",
       "      <td>4.82</td>\n",
       "      <td>4.93</td>\n",
       "      <td>4.73</td>\n",
       "      <td>NaN</td>\n",
       "      <td>f</td>\n",
       "      <td>1</td>\n",
       "      <td>1</td>\n",
       "      <td>0</td>\n",
       "      <td>0</td>\n",
       "      <td>0.57</td>\n",
       "    </tr>\n",
       "    <tr>\n",
       "      <th>2</th>\n",
       "      <td>284532</td>\n",
       "      <td>https://www.airbnb.com/rooms/284532</td>\n",
       "      <td>20220910194334</td>\n",
       "      <td>2022-09-11</td>\n",
       "      <td>city scrape</td>\n",
       "      <td>COSY STUDIO-FLAT WITH A GREAT  VIEW</td>\n",
       "      <td>My very RECENTLY RENOVATED flat is located in ...</td>\n",
       "      <td>Shoreditch is simply the coolest area in London!</td>\n",
       "      <td>https://a0.muscache.com/pictures/2932872/00037...</td>\n",
       "      <td>1481412</td>\n",
       "      <td>...</td>\n",
       "      <td>4.86</td>\n",
       "      <td>4.72</td>\n",
       "      <td>4.31</td>\n",
       "      <td>NaN</td>\n",
       "      <td>f</td>\n",
       "      <td>1</td>\n",
       "      <td>1</td>\n",
       "      <td>0</td>\n",
       "      <td>0</td>\n",
       "      <td>0.34</td>\n",
       "    </tr>\n",
       "    <tr>\n",
       "      <th>3</th>\n",
       "      <td>106332</td>\n",
       "      <td>https://www.airbnb.com/rooms/106332</td>\n",
       "      <td>20220910194334</td>\n",
       "      <td>2022-09-11</td>\n",
       "      <td>city scrape</td>\n",
       "      <td>Lovely large room, Bethnal Green</td>\n",
       "      <td>Lovely characterful room in a house belonging ...</td>\n",
       "      <td>NaN</td>\n",
       "      <td>https://a0.muscache.com/pictures/82437180/20b7...</td>\n",
       "      <td>264345</td>\n",
       "      <td>...</td>\n",
       "      <td>4.93</td>\n",
       "      <td>4.92</td>\n",
       "      <td>4.83</td>\n",
       "      <td>NaN</td>\n",
       "      <td>f</td>\n",
       "      <td>1</td>\n",
       "      <td>0</td>\n",
       "      <td>1</td>\n",
       "      <td>0</td>\n",
       "      <td>0.47</td>\n",
       "    </tr>\n",
       "    <tr>\n",
       "      <th>4</th>\n",
       "      <td>17402</td>\n",
       "      <td>https://www.airbnb.com/rooms/17402</td>\n",
       "      <td>20220910194334</td>\n",
       "      <td>2022-09-11</td>\n",
       "      <td>city scrape</td>\n",
       "      <td>Superb 3-Bed/2 Bath &amp; Wifi: Trendy W1</td>\n",
       "      <td>You'll have a wonderful stay in this superb mo...</td>\n",
       "      <td>Location, location, location! You won't find b...</td>\n",
       "      <td>https://a0.muscache.com/pictures/39d5309d-fba7...</td>\n",
       "      <td>67564</td>\n",
       "      <td>...</td>\n",
       "      <td>4.69</td>\n",
       "      <td>4.88</td>\n",
       "      <td>4.59</td>\n",
       "      <td>NaN</td>\n",
       "      <td>f</td>\n",
       "      <td>5</td>\n",
       "      <td>5</td>\n",
       "      <td>0</td>\n",
       "      <td>0</td>\n",
       "      <td>0.36</td>\n",
       "    </tr>\n",
       "  </tbody>\n",
       "</table>\n",
       "<p>5 rows × 75 columns</p>\n",
       "</div>"
      ],
      "text/plain": [
       "       id                          listing_url       scrape_id last_scraped  \\\n",
       "0   13913   https://www.airbnb.com/rooms/13913  20220910194334   2022-09-11   \n",
       "1   15400   https://www.airbnb.com/rooms/15400  20220910194334   2022-09-11   \n",
       "2  284532  https://www.airbnb.com/rooms/284532  20220910194334   2022-09-11   \n",
       "3  106332  https://www.airbnb.com/rooms/106332  20220910194334   2022-09-11   \n",
       "4   17402   https://www.airbnb.com/rooms/17402  20220910194334   2022-09-11   \n",
       "\n",
       "        source                                   name  \\\n",
       "0  city scrape    Holiday London DB Room Let-on going   \n",
       "1  city scrape    Bright Chelsea  Apartment. Chelsea!   \n",
       "2  city scrape    COSY STUDIO-FLAT WITH A GREAT  VIEW   \n",
       "3  city scrape       Lovely large room, Bethnal Green   \n",
       "4  city scrape  Superb 3-Bed/2 Bath & Wifi: Trendy W1   \n",
       "\n",
       "                                         description  \\\n",
       "0  My bright double bedroom with a large window h...   \n",
       "1  Lots of windows and light.  St Luke's Gardens ...   \n",
       "2  My very RECENTLY RENOVATED flat is located in ...   \n",
       "3  Lovely characterful room in a house belonging ...   \n",
       "4  You'll have a wonderful stay in this superb mo...   \n",
       "\n",
       "                               neighborhood_overview  \\\n",
       "0  Finsbury Park is a friendly melting pot commun...   \n",
       "1                                     It is Chelsea.   \n",
       "2   Shoreditch is simply the coolest area in London!   \n",
       "3                                                NaN   \n",
       "4  Location, location, location! You won't find b...   \n",
       "\n",
       "                                         picture_url  host_id  ...  \\\n",
       "0  https://a0.muscache.com/pictures/miso/Hosting-...    54730  ...   \n",
       "1  https://a0.muscache.com/pictures/428392/462d26...    60302  ...   \n",
       "2  https://a0.muscache.com/pictures/2932872/00037...  1481412  ...   \n",
       "3  https://a0.muscache.com/pictures/82437180/20b7...   264345  ...   \n",
       "4  https://a0.muscache.com/pictures/39d5309d-fba7...    67564  ...   \n",
       "\n",
       "  review_scores_communication review_scores_location review_scores_value  \\\n",
       "0                        4.93                   4.75                4.82   \n",
       "1                        4.82                   4.93                4.73   \n",
       "2                        4.86                   4.72                4.31   \n",
       "3                        4.93                   4.92                4.83   \n",
       "4                        4.69                   4.88                4.59   \n",
       "\n",
       "  license instant_bookable calculated_host_listings_count  \\\n",
       "0     NaN                f                              2   \n",
       "1     NaN                f                              1   \n",
       "2     NaN                f                              1   \n",
       "3     NaN                f                              1   \n",
       "4     NaN                f                              5   \n",
       "\n",
       "  calculated_host_listings_count_entire_homes  \\\n",
       "0                                           1   \n",
       "1                                           1   \n",
       "2                                           1   \n",
       "3                                           0   \n",
       "4                                           5   \n",
       "\n",
       "  calculated_host_listings_count_private_rooms  \\\n",
       "0                                            1   \n",
       "1                                            0   \n",
       "2                                            0   \n",
       "3                                            1   \n",
       "4                                            0   \n",
       "\n",
       "  calculated_host_listings_count_shared_rooms reviews_per_month  \n",
       "0                                           0              0.20  \n",
       "1                                           0              0.57  \n",
       "2                                           0              0.34  \n",
       "3                                           0              0.47  \n",
       "4                                           0              0.36  \n",
       "\n",
       "[5 rows x 75 columns]"
      ]
     },
     "execution_count": 18,
     "metadata": {},
     "output_type": "execute_result"
    }
   ],
   "source": [
    "df.head()\n",
    "#df.shape[0]\n",
    "#print(f\"Data frame is {df.shape[0]*df.shape[1]}\")\n"
   ]
  },
  {
   "cell_type": "code",
   "execution_count": 19,
   "metadata": {},
   "outputs": [
    {
     "data": {
      "text/plain": [
       "0                     https://www.airbnb.com/rooms/13913\n",
       "1                     https://www.airbnb.com/rooms/15400\n",
       "2                    https://www.airbnb.com/rooms/284532\n",
       "3                    https://www.airbnb.com/rooms/106332\n",
       "4                     https://www.airbnb.com/rooms/17402\n",
       "                              ...                       \n",
       "69346               https://www.airbnb.com/rooms/9671724\n",
       "69347              https://www.airbnb.com/rooms/20277958\n",
       "69348              https://www.airbnb.com/rooms/20512703\n",
       "69349              https://www.airbnb.com/rooms/49698549\n",
       "69350    https://www.airbnb.com/rooms/554172169432589107\n",
       "Name: listing_url, Length: 69351, dtype: object"
      ]
     },
     "execution_count": 19,
     "metadata": {},
     "output_type": "execute_result"
    }
   ],
   "source": [
    "df['listing_url']"
   ]
  },
  {
   "cell_type": "markdown",
   "metadata": {},
   "source": [
    "You should get: `Data frame is 69,351 x 75`."
   ]
  },
  {
   "cell_type": "markdown",
   "metadata": {},
   "source": [
    "### Task 1.2: Inspecting the Data Frame\n",
    "\n",
    "<div class=\"alert alert-block alert-success\"><b>Difficulty level</b>: Low.</div>\n",
    "\n",
    "Let's get a general sense of the data by printing out information _about_ the data frame. There are several ways to do this (and we'll see another futher on):\n",
    "\n",
    "- `df.describe(percentiles=None, include=None, exclude=None, datetime_is_numeric=False)` -- descriptive stats for all **numeric** columns\n",
    "- `df.info(verbose=None, buf=None, max_cols=None, memory_usage=None, show_counts=None)` -- summarises all columns, but without distribution information\n",
    "- `df.memory_usage(index=True, deep=False)` -- memory usage details about each column"
   ]
  },
  {
   "cell_type": "markdown",
   "metadata": {},
   "source": [
    "**Quick question**: What is another term for the 0.5 percentile?\n",
    "\n",
    "**Answer**: **??**."
   ]
  },
  {
   "cell_type": "markdown",
   "metadata": {},
   "source": [
    "#### 1.2.1 Describing\n",
    "\n",
    "Show the 5th and 95th percentiles:"
   ]
  },
  {
   "cell_type": "code",
   "execution_count": 21,
   "metadata": {},
   "outputs": [
    {
     "data": {
      "text/html": [
       "<div>\n",
       "<style scoped>\n",
       "    .dataframe tbody tr th:only-of-type {\n",
       "        vertical-align: middle;\n",
       "    }\n",
       "\n",
       "    .dataframe tbody tr th {\n",
       "        vertical-align: top;\n",
       "    }\n",
       "\n",
       "    .dataframe thead th {\n",
       "        text-align: right;\n",
       "    }\n",
       "</style>\n",
       "<table border=\"1\" class=\"dataframe\">\n",
       "  <thead>\n",
       "    <tr style=\"text-align: right;\">\n",
       "      <th></th>\n",
       "      <th>id</th>\n",
       "      <th>scrape_id</th>\n",
       "      <th>host_id</th>\n",
       "      <th>host_listings_count</th>\n",
       "      <th>host_total_listings_count</th>\n",
       "      <th>neighbourhood_group_cleansed</th>\n",
       "      <th>latitude</th>\n",
       "      <th>longitude</th>\n",
       "      <th>accommodates</th>\n",
       "      <th>bathrooms</th>\n",
       "      <th>...</th>\n",
       "      <th>review_scores_checkin</th>\n",
       "      <th>review_scores_communication</th>\n",
       "      <th>review_scores_location</th>\n",
       "      <th>review_scores_value</th>\n",
       "      <th>license</th>\n",
       "      <th>calculated_host_listings_count</th>\n",
       "      <th>calculated_host_listings_count_entire_homes</th>\n",
       "      <th>calculated_host_listings_count_private_rooms</th>\n",
       "      <th>calculated_host_listings_count_shared_rooms</th>\n",
       "      <th>reviews_per_month</th>\n",
       "    </tr>\n",
       "  </thead>\n",
       "  <tbody>\n",
       "    <tr>\n",
       "      <th>count</th>\n",
       "      <td>6.935100e+04</td>\n",
       "      <td>6.935100e+04</td>\n",
       "      <td>6.935100e+04</td>\n",
       "      <td>69346.000000</td>\n",
       "      <td>69346.000000</td>\n",
       "      <td>0.0</td>\n",
       "      <td>69351.000000</td>\n",
       "      <td>69351.000000</td>\n",
       "      <td>69351.000000</td>\n",
       "      <td>0.0</td>\n",
       "      <td>...</td>\n",
       "      <td>51515.000000</td>\n",
       "      <td>51548.000000</td>\n",
       "      <td>51517.000000</td>\n",
       "      <td>51514.000000</td>\n",
       "      <td>0.0</td>\n",
       "      <td>69351.000000</td>\n",
       "      <td>69351.000000</td>\n",
       "      <td>69351.000000</td>\n",
       "      <td>69351.000000</td>\n",
       "      <td>52571.000000</td>\n",
       "    </tr>\n",
       "    <tr>\n",
       "      <th>mean</th>\n",
       "      <td>1.373703e+17</td>\n",
       "      <td>2.022091e+13</td>\n",
       "      <td>1.242124e+08</td>\n",
       "      <td>31.047112</td>\n",
       "      <td>54.256035</td>\n",
       "      <td>NaN</td>\n",
       "      <td>51.509544</td>\n",
       "      <td>-0.128489</td>\n",
       "      <td>3.075255</td>\n",
       "      <td>NaN</td>\n",
       "      <td>...</td>\n",
       "      <td>4.790880</td>\n",
       "      <td>4.803499</td>\n",
       "      <td>4.739017</td>\n",
       "      <td>4.620849</td>\n",
       "      <td>NaN</td>\n",
       "      <td>11.987498</td>\n",
       "      <td>9.001355</td>\n",
       "      <td>2.811437</td>\n",
       "      <td>0.031391</td>\n",
       "      <td>0.882593</td>\n",
       "    </tr>\n",
       "    <tr>\n",
       "      <th>std</th>\n",
       "      <td>2.651479e+17</td>\n",
       "      <td>6.796924e-01</td>\n",
       "      <td>1.377104e+08</td>\n",
       "      <td>180.459655</td>\n",
       "      <td>336.219638</td>\n",
       "      <td>NaN</td>\n",
       "      <td>0.049182</td>\n",
       "      <td>0.100957</td>\n",
       "      <td>1.940233</td>\n",
       "      <td>NaN</td>\n",
       "      <td>...</td>\n",
       "      <td>0.454214</td>\n",
       "      <td>0.453838</td>\n",
       "      <td>0.420715</td>\n",
       "      <td>0.519731</td>\n",
       "      <td>NaN</td>\n",
       "      <td>37.148839</td>\n",
       "      <td>31.697957</td>\n",
       "      <td>15.762046</td>\n",
       "      <td>0.506464</td>\n",
       "      <td>1.274510</td>\n",
       "    </tr>\n",
       "    <tr>\n",
       "      <th>min</th>\n",
       "      <td>1.391300e+04</td>\n",
       "      <td>2.022091e+13</td>\n",
       "      <td>4.775000e+03</td>\n",
       "      <td>1.000000</td>\n",
       "      <td>1.000000</td>\n",
       "      <td>NaN</td>\n",
       "      <td>51.272480</td>\n",
       "      <td>-0.523600</td>\n",
       "      <td>0.000000</td>\n",
       "      <td>NaN</td>\n",
       "      <td>...</td>\n",
       "      <td>0.000000</td>\n",
       "      <td>0.000000</td>\n",
       "      <td>0.000000</td>\n",
       "      <td>0.000000</td>\n",
       "      <td>NaN</td>\n",
       "      <td>1.000000</td>\n",
       "      <td>0.000000</td>\n",
       "      <td>0.000000</td>\n",
       "      <td>0.000000</td>\n",
       "      <td>0.010000</td>\n",
       "    </tr>\n",
       "    <tr>\n",
       "      <th>5%</th>\n",
       "      <td>4.530436e+06</td>\n",
       "      <td>2.022091e+13</td>\n",
       "      <td>2.125620e+06</td>\n",
       "      <td>1.000000</td>\n",
       "      <td>1.000000</td>\n",
       "      <td>NaN</td>\n",
       "      <td>51.420590</td>\n",
       "      <td>-0.300245</td>\n",
       "      <td>1.000000</td>\n",
       "      <td>NaN</td>\n",
       "      <td>...</td>\n",
       "      <td>4.000000</td>\n",
       "      <td>4.000000</td>\n",
       "      <td>4.000000</td>\n",
       "      <td>3.840000</td>\n",
       "      <td>NaN</td>\n",
       "      <td>1.000000</td>\n",
       "      <td>0.000000</td>\n",
       "      <td>0.000000</td>\n",
       "      <td>0.000000</td>\n",
       "      <td>0.020000</td>\n",
       "    </tr>\n",
       "    <tr>\n",
       "      <th>50%</th>\n",
       "      <td>3.395467e+07</td>\n",
       "      <td>2.022091e+13</td>\n",
       "      <td>6.010350e+07</td>\n",
       "      <td>2.000000</td>\n",
       "      <td>2.000000</td>\n",
       "      <td>NaN</td>\n",
       "      <td>51.513600</td>\n",
       "      <td>-0.126200</td>\n",
       "      <td>2.000000</td>\n",
       "      <td>NaN</td>\n",
       "      <td>...</td>\n",
       "      <td>4.950000</td>\n",
       "      <td>4.980000</td>\n",
       "      <td>4.860000</td>\n",
       "      <td>4.750000</td>\n",
       "      <td>NaN</td>\n",
       "      <td>1.000000</td>\n",
       "      <td>1.000000</td>\n",
       "      <td>0.000000</td>\n",
       "      <td>0.000000</td>\n",
       "      <td>0.430000</td>\n",
       "    </tr>\n",
       "    <tr>\n",
       "      <th>95%</th>\n",
       "      <td>6.843427e+17</td>\n",
       "      <td>2.022091e+13</td>\n",
       "      <td>4.401124e+08</td>\n",
       "      <td>76.000000</td>\n",
       "      <td>144.000000</td>\n",
       "      <td>NaN</td>\n",
       "      <td>51.587600</td>\n",
       "      <td>0.026395</td>\n",
       "      <td>7.000000</td>\n",
       "      <td>NaN</td>\n",
       "      <td>...</td>\n",
       "      <td>5.000000</td>\n",
       "      <td>5.000000</td>\n",
       "      <td>5.000000</td>\n",
       "      <td>5.000000</td>\n",
       "      <td>NaN</td>\n",
       "      <td>57.000000</td>\n",
       "      <td>44.000000</td>\n",
       "      <td>7.000000</td>\n",
       "      <td>0.000000</td>\n",
       "      <td>3.290000</td>\n",
       "    </tr>\n",
       "    <tr>\n",
       "      <th>max</th>\n",
       "      <td>7.123951e+17</td>\n",
       "      <td>2.022091e+13</td>\n",
       "      <td>4.788540e+08</td>\n",
       "      <td>2157.000000</td>\n",
       "      <td>23950.000000</td>\n",
       "      <td>NaN</td>\n",
       "      <td>51.708930</td>\n",
       "      <td>0.305150</td>\n",
       "      <td>16.000000</td>\n",
       "      <td>NaN</td>\n",
       "      <td>...</td>\n",
       "      <td>5.000000</td>\n",
       "      <td>5.000000</td>\n",
       "      <td>5.000000</td>\n",
       "      <td>5.000000</td>\n",
       "      <td>NaN</td>\n",
       "      <td>285.000000</td>\n",
       "      <td>282.000000</td>\n",
       "      <td>219.000000</td>\n",
       "      <td>19.000000</td>\n",
       "      <td>51.330000</td>\n",
       "    </tr>\n",
       "  </tbody>\n",
       "</table>\n",
       "<p>8 rows × 41 columns</p>\n",
       "</div>"
      ],
      "text/plain": [
       "                 id     scrape_id       host_id  host_listings_count  \\\n",
       "count  6.935100e+04  6.935100e+04  6.935100e+04         69346.000000   \n",
       "mean   1.373703e+17  2.022091e+13  1.242124e+08            31.047112   \n",
       "std    2.651479e+17  6.796924e-01  1.377104e+08           180.459655   \n",
       "min    1.391300e+04  2.022091e+13  4.775000e+03             1.000000   \n",
       "5%     4.530436e+06  2.022091e+13  2.125620e+06             1.000000   \n",
       "50%    3.395467e+07  2.022091e+13  6.010350e+07             2.000000   \n",
       "95%    6.843427e+17  2.022091e+13  4.401124e+08            76.000000   \n",
       "max    7.123951e+17  2.022091e+13  4.788540e+08          2157.000000   \n",
       "\n",
       "       host_total_listings_count  neighbourhood_group_cleansed      latitude  \\\n",
       "count               69346.000000                           0.0  69351.000000   \n",
       "mean                   54.256035                           NaN     51.509544   \n",
       "std                   336.219638                           NaN      0.049182   \n",
       "min                     1.000000                           NaN     51.272480   \n",
       "5%                      1.000000                           NaN     51.420590   \n",
       "50%                     2.000000                           NaN     51.513600   \n",
       "95%                   144.000000                           NaN     51.587600   \n",
       "max                 23950.000000                           NaN     51.708930   \n",
       "\n",
       "          longitude  accommodates  bathrooms  ...  review_scores_checkin  \\\n",
       "count  69351.000000  69351.000000        0.0  ...           51515.000000   \n",
       "mean      -0.128489      3.075255        NaN  ...               4.790880   \n",
       "std        0.100957      1.940233        NaN  ...               0.454214   \n",
       "min       -0.523600      0.000000        NaN  ...               0.000000   \n",
       "5%        -0.300245      1.000000        NaN  ...               4.000000   \n",
       "50%       -0.126200      2.000000        NaN  ...               4.950000   \n",
       "95%        0.026395      7.000000        NaN  ...               5.000000   \n",
       "max        0.305150     16.000000        NaN  ...               5.000000   \n",
       "\n",
       "       review_scores_communication  review_scores_location  \\\n",
       "count                 51548.000000            51517.000000   \n",
       "mean                      4.803499                4.739017   \n",
       "std                       0.453838                0.420715   \n",
       "min                       0.000000                0.000000   \n",
       "5%                        4.000000                4.000000   \n",
       "50%                       4.980000                4.860000   \n",
       "95%                       5.000000                5.000000   \n",
       "max                       5.000000                5.000000   \n",
       "\n",
       "       review_scores_value  license  calculated_host_listings_count  \\\n",
       "count         51514.000000      0.0                    69351.000000   \n",
       "mean              4.620849      NaN                       11.987498   \n",
       "std               0.519731      NaN                       37.148839   \n",
       "min               0.000000      NaN                        1.000000   \n",
       "5%                3.840000      NaN                        1.000000   \n",
       "50%               4.750000      NaN                        1.000000   \n",
       "95%               5.000000      NaN                       57.000000   \n",
       "max               5.000000      NaN                      285.000000   \n",
       "\n",
       "       calculated_host_listings_count_entire_homes  \\\n",
       "count                                 69351.000000   \n",
       "mean                                      9.001355   \n",
       "std                                      31.697957   \n",
       "min                                       0.000000   \n",
       "5%                                        0.000000   \n",
       "50%                                       1.000000   \n",
       "95%                                      44.000000   \n",
       "max                                     282.000000   \n",
       "\n",
       "       calculated_host_listings_count_private_rooms  \\\n",
       "count                                  69351.000000   \n",
       "mean                                       2.811437   \n",
       "std                                       15.762046   \n",
       "min                                        0.000000   \n",
       "5%                                         0.000000   \n",
       "50%                                        0.000000   \n",
       "95%                                        7.000000   \n",
       "max                                      219.000000   \n",
       "\n",
       "       calculated_host_listings_count_shared_rooms  reviews_per_month  \n",
       "count                                 69351.000000       52571.000000  \n",
       "mean                                      0.031391           0.882593  \n",
       "std                                       0.506464           1.274510  \n",
       "min                                       0.000000           0.010000  \n",
       "5%                                        0.000000           0.020000  \n",
       "50%                                       0.000000           0.430000  \n",
       "95%                                       0.000000           3.290000  \n",
       "max                                      19.000000          51.330000  \n",
       "\n",
       "[8 rows x 41 columns]"
      ]
     },
     "execution_count": 21,
     "metadata": {},
     "output_type": "execute_result"
    }
   ],
   "source": [
    "df.describe(percentiles=[.05, .95]) # 0.5 is always shown"
   ]
  },
  {
   "cell_type": "markdown",
   "metadata": {},
   "source": [
    "#### 1.2.2 Info"
   ]
  },
  {
   "cell_type": "code",
   "execution_count": 22,
   "metadata": {},
   "outputs": [
    {
     "name": "stdout",
     "output_type": "stream",
     "text": [
      "<class 'pandas.core.frame.DataFrame'>\n",
      "RangeIndex: 69351 entries, 0 to 69350\n",
      "Data columns (total 75 columns):\n",
      " #   Column                                        Non-Null Count  Dtype  \n",
      "---  ------                                        --------------  -----  \n",
      " 0   id                                            69351 non-null  int64  \n",
      " 1   listing_url                                   69351 non-null  object \n",
      " 2   scrape_id                                     69351 non-null  int64  \n",
      " 3   last_scraped                                  69351 non-null  object \n",
      " 4   source                                        69351 non-null  object \n",
      " 5   name                                          69330 non-null  object \n",
      " 6   description                                   67832 non-null  object \n",
      " 7   neighborhood_overview                         39964 non-null  object \n",
      " 8   picture_url                                   69351 non-null  object \n",
      " 9   host_id                                       69351 non-null  int64  \n",
      " 10  host_url                                      69351 non-null  object \n",
      " 11  host_name                                     69346 non-null  object \n",
      " 12  host_since                                    69346 non-null  object \n",
      " 13  host_location                                 56984 non-null  object \n",
      " 14  host_about                                    36946 non-null  object \n",
      " 15  host_response_time                            42830 non-null  object \n",
      " 16  host_response_rate                            42830 non-null  object \n",
      " 17  host_acceptance_rate                          45090 non-null  object \n",
      " 18  host_is_superhost                             69332 non-null  object \n",
      " 19  host_thumbnail_url                            69346 non-null  object \n",
      " 20  host_picture_url                              69346 non-null  object \n",
      " 21  host_neighbourhood                            43597 non-null  object \n",
      " 22  host_listings_count                           69346 non-null  float64\n",
      " 23  host_total_listings_count                     69346 non-null  float64\n",
      " 24  host_verifications                            69351 non-null  object \n",
      " 25  host_has_profile_pic                          69346 non-null  object \n",
      " 26  host_identity_verified                        69346 non-null  object \n",
      " 27  neighbourhood                                 39965 non-null  object \n",
      " 28  neighbourhood_cleansed                        69351 non-null  object \n",
      " 29  neighbourhood_group_cleansed                  0 non-null      float64\n",
      " 30  latitude                                      69351 non-null  float64\n",
      " 31  longitude                                     69351 non-null  float64\n",
      " 32  property_type                                 69351 non-null  object \n",
      " 33  room_type                                     69351 non-null  object \n",
      " 34  accommodates                                  69351 non-null  int64  \n",
      " 35  bathrooms                                     0 non-null      float64\n",
      " 36  bathrooms_text                                69220 non-null  object \n",
      " 37  bedrooms                                      65922 non-null  float64\n",
      " 38  beds                                          68151 non-null  float64\n",
      " 39  amenities                                     69351 non-null  object \n",
      " 40  price                                         69351 non-null  object \n",
      " 41  minimum_nights                                69351 non-null  int64  \n",
      " 42  maximum_nights                                69351 non-null  int64  \n",
      " 43  minimum_minimum_nights                        69348 non-null  float64\n",
      " 44  maximum_minimum_nights                        69348 non-null  float64\n",
      " 45  minimum_maximum_nights                        69348 non-null  float64\n",
      " 46  maximum_maximum_nights                        69348 non-null  float64\n",
      " 47  minimum_nights_avg_ntm                        69348 non-null  float64\n",
      " 48  maximum_nights_avg_ntm                        69348 non-null  float64\n",
      " 49  calendar_updated                              0 non-null      float64\n",
      " 50  has_availability                              69351 non-null  object \n",
      " 51  availability_30                               69351 non-null  int64  \n",
      " 52  availability_60                               69351 non-null  int64  \n",
      " 53  availability_90                               69351 non-null  int64  \n",
      " 54  availability_365                              69351 non-null  int64  \n",
      " 55  calendar_last_scraped                         69351 non-null  object \n",
      " 56  number_of_reviews                             69351 non-null  int64  \n",
      " 57  number_of_reviews_ltm                         69351 non-null  int64  \n",
      " 58  number_of_reviews_l30d                        69351 non-null  int64  \n",
      " 59  first_review                                  52571 non-null  object \n",
      " 60  last_review                                   52571 non-null  object \n",
      " 61  review_scores_rating                          52571 non-null  float64\n",
      " 62  review_scores_accuracy                        51549 non-null  float64\n",
      " 63  review_scores_cleanliness                     51562 non-null  float64\n",
      " 64  review_scores_checkin                         51515 non-null  float64\n",
      " 65  review_scores_communication                   51548 non-null  float64\n",
      " 66  review_scores_location                        51517 non-null  float64\n",
      " 67  review_scores_value                           51514 non-null  float64\n",
      " 68  license                                       0 non-null      float64\n",
      " 69  instant_bookable                              69351 non-null  object \n",
      " 70  calculated_host_listings_count                69351 non-null  int64  \n",
      " 71  calculated_host_listings_count_entire_homes   69351 non-null  int64  \n",
      " 72  calculated_host_listings_count_private_rooms  69351 non-null  int64  \n",
      " 73  calculated_host_listings_count_shared_rooms   69351 non-null  int64  \n",
      " 74  reviews_per_month                             52571 non-null  float64\n",
      "dtypes: float64(24), int64(17), object(34)\n",
      "memory usage: 39.7+ MB\n"
     ]
    }
   ],
   "source": [
    "df.info(verbose=True)"
   ]
  },
  {
   "cell_type": "markdown",
   "metadata": {},
   "source": [
    "You should get that the data frame uses about 40MB of memory and has 24 float64 columns, 17 ints, and 34 objects (text)."
   ]
  },
  {
   "cell_type": "markdown",
   "metadata": {},
   "source": [
    "#### 1.2.3 Memory Usage"
   ]
  },
  {
   "cell_type": "code",
   "execution_count": 23,
   "metadata": {},
   "outputs": [
    {
     "data": {
      "text/plain": [
       "Index                                               128\n",
       "id                                               554808\n",
       "listing_url                                     6656141\n",
       "scrape_id                                        554808\n",
       "last_scraped                                    4646517\n",
       "                                                 ...   \n",
       "calculated_host_listings_count                   554808\n",
       "calculated_host_listings_count_entire_homes      554808\n",
       "calculated_host_listings_count_private_rooms     554808\n",
       "calculated_host_listings_count_shared_rooms      554808\n",
       "reviews_per_month                                554808\n",
       "Length: 76, dtype: int64"
      ]
     },
     "execution_count": 23,
     "metadata": {},
     "output_type": "execute_result"
    }
   ],
   "source": [
    "mem_usage = df.memory_usage(index=True, deep=True)\n",
    "mem_usage"
   ]
  },
  {
   "cell_type": "markdown",
   "metadata": {},
   "source": [
    "#### 1.2.4 Printing the Columns\n",
    "\n",
    "Finally, I find it *very* useful to be able to quickly print out a list of the **columns** without all of the details shown above. You just need to _print_ the _columns_ as a _list_:"
   ]
  },
  {
   "cell_type": "code",
   "execution_count": 38,
   "metadata": {},
   "outputs": [
    {
     "name": "stdout",
     "output_type": "stream",
     "text": [
      "['id', 'listing_url', 'scrape_id', 'last_scraped', 'source', 'name', 'description', 'neighborhood_overview', 'picture_url', 'host_id', 'host_url', 'host_name', 'host_since', 'host_location', 'host_about', 'host_response_time', 'host_response_rate', 'host_acceptance_rate', 'host_is_superhost', 'host_thumbnail_url', 'host_picture_url', 'host_neighbourhood', 'host_listings_count', 'host_total_listings_count', 'host_verifications', 'host_has_profile_pic', 'host_identity_verified', 'neighbourhood', 'neighbourhood_cleansed', 'neighbourhood_group_cleansed', 'latitude', 'longitude', 'property_type', 'room_type', 'accommodates', 'bathrooms', 'bathrooms_text', 'bedrooms', 'beds', 'amenities', 'price', 'minimum_nights', 'maximum_nights', 'minimum_minimum_nights', 'maximum_minimum_nights', 'minimum_maximum_nights', 'maximum_maximum_nights', 'minimum_nights_avg_ntm', 'maximum_nights_avg_ntm', 'calendar_updated', 'has_availability', 'availability_30', 'availability_60', 'availability_90', 'availability_365', 'calendar_last_scraped', 'number_of_reviews', 'number_of_reviews_ltm', 'number_of_reviews_l30d', 'first_review', 'last_review', 'review_scores_rating', 'review_scores_accuracy', 'review_scores_cleanliness', 'review_scores_checkin', 'review_scores_communication', 'review_scores_location', 'review_scores_value', 'license', 'instant_bookable', 'calculated_host_listings_count', 'calculated_host_listings_count_entire_homes', 'calculated_host_listings_count_private_rooms', 'calculated_host_listings_count_shared_rooms', 'reviews_per_month']\n"
     ]
    }
   ],
   "source": [
    "#print(df)\n",
    "print(df.columns.values.tolist())"
   ]
  },
  {
   "cell_type": "markdown",
   "metadata": {},
   "source": [
    "You should get a list showing every single column. If you get `Index(['id', 'listing_url',...], dtype='object')` then you have printed the column _index_ object and you to need to tell the object to convert its output **to a list** (*hint*: Google)."
   ]
  },
  {
   "cell_type": "markdown",
   "metadata": {},
   "source": [
    "### Task 1.3: Saving the File Locally\n",
    "\n",
    "<div class=\"alert alert-block alert-success\"><b>Difficulty level</b>: Low</div>\n",
    "\n",
    "Now save the file somewhere local so that you don't have to keep downloading 40MB of compressed data every time you want to start the practical. We'll be using this data for the rest of term, so you might as well save yourself some time and bandwidth! We'll talk more about data processing pipelines over the course of the term, but I'd suggest putting this data set into a `data/raw` folder because then you can have directories like `data/clean` and `data/analytical` as you move through the process of cleaning and prepping your data for analysis."
   ]
  },
  {
   "cell_type": "code",
   "execution_count": 39,
   "metadata": {},
   "outputs": [],
   "source": [
    "host = 'https://orca.casa.ucl.ac.uk'\n",
    "path = '~jreades/data/2022-09-10-listings.csv.gz'\n",
    "url  = f'{host}/{path}'"
   ]
  },
  {
   "cell_type": "code",
   "execution_count": 40,
   "metadata": {},
   "outputs": [
    {
     "name": "stdout",
     "output_type": "stream",
     "text": [
      "Writing to: 2022-09-10-listings.csv.gz\n"
     ]
    }
   ],
   "source": [
    "path = os.path.join('data','raw') # A default location to save raw data\n",
    "fn   = url.split('/')[-1]         # What does this do?\n",
    "print(f\"Writing to: {fn}\")"
   ]
  },
  {
   "cell_type": "code",
   "execution_count": 41,
   "metadata": {},
   "outputs": [
    {
     "name": "stdout",
     "output_type": "stream",
     "text": [
      "Creating data/raw under /home/jovyan/work/fsds-Jon/Hansen\n",
      "Done.\n"
     ]
    }
   ],
   "source": [
    "if not os.path.exists(path):      # And what does *this* do?\n",
    "    print(f\"Creating {path} under {os.getcwd()}\")\n",
    "    os.makedirs(path)\n",
    "    \n",
    "df.to_csv(os.path.join(path,fn), index=False)\n",
    "print(\"Done.\")"
   ]
  },
  {
   "cell_type": "markdown",
   "metadata": {},
   "source": [
    "## Task 2: Managing Data\n",
    "\n",
    "Although you _could_ do the next few steps as part of loading the _raw_ data, I always prefer to keep the original data set handy since I almost always discover that there are fields I didn't realise I needed when I started my work. So my approach to coding is usually:\n",
    "\n",
    "1. Download the raw file and save it locally in a `data/raw` directory.\n",
    "2. Load the first `nrows` of data so that I can quickly:\n",
    "   - Check that the specification matches the data and select columns/rows accordingly.\n",
    "   - Identify obviously invalid rows/columns and investigate further.\n",
    "   - Check the code to fix data types and (where relevant) values works.\n",
    "   - Write this new, smaller file ($m` << m$ and $n` << n$) out to a `data/clean` or `data/canonical` directory (depending on whether formatting the columns is so complex or takes so long on a large data set that it needs to be separated out from actual cleaning).\n",
    "   - Test out some initial ideas for further analysis.\n",
    "3. Re-run the code (remove the `nrows` limit) using the full data set."
   ]
  },
  {
   "cell_type": "markdown",
   "metadata": {},
   "source": [
    "### Task 2.1 Think Parameters\n",
    "\n",
    "<div class=\"alert alert-block alert-warning\"><b>Difficulty level</b>: Moderate; although the code here is simple, but the logic is not.</div>\n",
    "\n",
    "You should always be looking for ways to _avoid_ hard-coding values that might change over time, especially those linked to the date. \n",
    "\n",
    "#### 2.1.1 Parameterising File Names\n",
    "\n",
    "Ideally, if the data changes on a regular basis, I might try to work out how to make it easy to update the code to download the latest file. For instance, if the file looks like `2022-09-10-listings.csv.gz` then I might well specify the `url` as `{date}-listings.csv.gz` or `{year}-{month}-{day}-listings.csv.gz` and set up the variables that I need beforehand.\n",
    "\n",
    "Using parameters makes it easier to write robust code that doesn't have unwanted side-effects. Here's a common one: you write code to download and process a file named `20221111-data.csv.gz`. After doing all the steps in Tasks 2 and 3 below you save it to `clean-data.csv.gz`. \n",
    "\n",
    "**Quick Question**: what happens when your boss asks you to process `20221211-data.csv.gz`?\n",
    "\n",
    "**Answer**: you are going to lose every single output from the 2022-11-11 data that depends on `clean-data.csv.gz` because they are *all* going to now be generated from the 2022-12-11 data set instead. Worse, you will almost certainly have *no* way of knowing which output came from which data set (because you probably stopped tracking dates very early in your application)."
   ]
  },
  {
   "cell_type": "markdown",
   "metadata": {},
   "source": [
    "#### 2.1.2 Parameterising Column Loading\n",
    "\n",
    "In order to avoid having to load lots of data that we aren't sure we need yet, we can restrict the number of rows and columns that we load. We got `cols` by copying the output of `(df.columns.to_list()` and then removing the fields that we thought we _weren't_ interested in."
   ]
  },
  {
   "cell_type": "code",
   "execution_count": 42,
   "metadata": {},
   "outputs": [],
   "source": [
    "cols = ['id', 'listing_url', 'last_scraped', 'name', 'description', 'host_id', 'host_name', \n",
    "        'host_since', 'host_location', 'host_about', 'host_is_superhost', \n",
    "        'host_listings_count', 'host_total_listings_count', 'host_verifications', 'latitude', 'longitude', \n",
    "        'property_type', 'room_type', 'accommodates', 'bathrooms', 'bathrooms_text', 'bedrooms', 'beds', \n",
    "        'amenities', 'price', 'minimum_nights', 'maximum_nights', 'availability_365', 'number_of_reviews', \n",
    "        'first_review', 'last_review', 'review_scores_rating', 'license', 'reviews_per_month']"
   ]
  },
  {
   "cell_type": "markdown",
   "metadata": {},
   "source": [
    "#### 1.2.2 Parameterising Row Loading\n",
    "\n",
    "You could also do something like this to ensure that we don't load all of the rows while we're still working things out:"
   ]
  },
  {
   "cell_type": "code",
   "execution_count": 43,
   "metadata": {},
   "outputs": [],
   "source": [
    "del(df) # Check we've deleted the original object"
   ]
  },
  {
   "cell_type": "markdown",
   "metadata": {},
   "source": [
    "We use `del(df)` to ensure that we aren't accidentally using the 'old' data frame: after deleting it from Python's memory to free up space, we will read in a new data frame. See if you can set pandas to:\n",
    "- Use the columns specified in `cols`\n",
    "- Load only the first 10,000 rows using `nrows`\n",
    "- Don't forget to set `low_memory=False`"
   ]
  },
  {
   "cell_type": "code",
   "execution_count": 52,
   "metadata": {},
   "outputs": [
    {
     "name": "stdout",
     "output_type": "stream",
     "text": [
      "Data frame is 10,000 x 34\n"
     ]
    }
   ],
   "source": [
    "testing = True\n",
    "\n",
    "if testing:\n",
    "    df = pd.read_csv(os.path.join(path,fn), \n",
    "                low_memory=False, usecols=(cols), nrows=10000)\n",
    "else:\n",
    "    df = pd.read_csv(os.path.join(path,fn), \n",
    "                low_memory=False, usecols=None, nrows=10000)\n",
    "\n",
    "print(f\"Data frame is {df.shape[0]:,} x {df.shape[1]}\")"
   ]
  },
  {
   "cell_type": "markdown",
   "metadata": {},
   "source": [
    "Notice how this code deliberately works the same for either testing _or_ operational execution -- we just flip between the option by changing the `testing` variable from `True` to `False`! We could use this `testing` variable throughout our code if we wanted to change other behaviours based on development/deployment context."
   ]
  },
  {
   "cell_type": "markdown",
   "metadata": {},
   "source": [
    "## Task 3: Tidying Up: an Exploration"
   ]
  },
  {
   "cell_type": "markdown",
   "metadata": {},
   "source": [
    "### Task 3.1 Randomly Selected Rows\n",
    "\n",
    "<div class=\"alert alert-block alert-success\"><b>Difficulty level</b>: Low</div>\n",
    "\n",
    "I often like to start my EDA by simply printint out randomly-selected rows to get a feeling for what's in the data. Does what I see square with what I read? What does the `name` look like? What do I see in `last_scraped` and is it a sensible data? What's the `id` field for?"
   ]
  },
  {
   "cell_type": "code",
   "execution_count": 53,
   "metadata": {},
   "outputs": [
    {
     "data": {
      "text/html": [
       "<div>\n",
       "<style scoped>\n",
       "    .dataframe tbody tr th:only-of-type {\n",
       "        vertical-align: middle;\n",
       "    }\n",
       "\n",
       "    .dataframe tbody tr th {\n",
       "        vertical-align: top;\n",
       "    }\n",
       "\n",
       "    .dataframe thead th {\n",
       "        text-align: right;\n",
       "    }\n",
       "</style>\n",
       "<table border=\"1\" class=\"dataframe\">\n",
       "  <thead>\n",
       "    <tr style=\"text-align: right;\">\n",
       "      <th></th>\n",
       "      <th>id</th>\n",
       "      <th>listing_url</th>\n",
       "      <th>last_scraped</th>\n",
       "      <th>name</th>\n",
       "      <th>description</th>\n",
       "      <th>host_id</th>\n",
       "      <th>host_name</th>\n",
       "      <th>host_since</th>\n",
       "      <th>host_location</th>\n",
       "      <th>host_about</th>\n",
       "      <th>...</th>\n",
       "      <th>price</th>\n",
       "      <th>minimum_nights</th>\n",
       "      <th>maximum_nights</th>\n",
       "      <th>availability_365</th>\n",
       "      <th>number_of_reviews</th>\n",
       "      <th>first_review</th>\n",
       "      <th>last_review</th>\n",
       "      <th>review_scores_rating</th>\n",
       "      <th>license</th>\n",
       "      <th>reviews_per_month</th>\n",
       "    </tr>\n",
       "  </thead>\n",
       "  <tbody>\n",
       "    <tr>\n",
       "      <th>8200</th>\n",
       "      <td>9347957.0</td>\n",
       "      <td>https://www.airbnb.com/rooms/9347957</td>\n",
       "      <td>2022-09-11</td>\n",
       "      <td>Large double room in West Dulwich</td>\n",
       "      <td>The ROOM is very spacious, it comes with doubl...</td>\n",
       "      <td>48513988.0</td>\n",
       "      <td>Leire</td>\n",
       "      <td>2015-11-08</td>\n",
       "      <td>Miami, FL</td>\n",
       "      <td>NaN</td>\n",
       "      <td>...</td>\n",
       "      <td>$680.00</td>\n",
       "      <td>1</td>\n",
       "      <td>1125.0</td>\n",
       "      <td>365.0</td>\n",
       "      <td>0.0</td>\n",
       "      <td>NaN</td>\n",
       "      <td>NaN</td>\n",
       "      <td>NaN</td>\n",
       "      <td>NaN</td>\n",
       "      <td>NaN</td>\n",
       "    </tr>\n",
       "    <tr>\n",
       "      <th>4703</th>\n",
       "      <td>6191744.0</td>\n",
       "      <td>https://www.airbnb.com/rooms/6191744</td>\n",
       "      <td>2022-09-11</td>\n",
       "      <td>room</td>\n",
       "      <td>10 minutes from Liverpool Street in single vil...</td>\n",
       "      <td>31712697.0</td>\n",
       "      <td>Vittorio</td>\n",
       "      <td>2015-04-22</td>\n",
       "      <td>London, United Kingdom</td>\n",
       "      <td>hello I am Vittorio is a very friendly guy. Wo...</td>\n",
       "      <td>...</td>\n",
       "      <td>$25.00</td>\n",
       "      <td>1</td>\n",
       "      <td>30.0</td>\n",
       "      <td>0.0</td>\n",
       "      <td>3.0</td>\n",
       "      <td>2015-05-09</td>\n",
       "      <td>2015-06-03</td>\n",
       "      <td>2.5</td>\n",
       "      <td>NaN</td>\n",
       "      <td>0.03</td>\n",
       "    </tr>\n",
       "    <tr>\n",
       "      <th>4988</th>\n",
       "      <td>6445903.0</td>\n",
       "      <td>https://www.airbnb.com/rooms/6445903</td>\n",
       "      <td>2022-09-11</td>\n",
       "      <td>Beautiful 3 bed house near Arsenal</td>\n",
       "      <td>We have a large, bright Victorian family home ...</td>\n",
       "      <td>33648056.0</td>\n",
       "      <td>Laura</td>\n",
       "      <td>2015-05-18</td>\n",
       "      <td>London, United Kingdom</td>\n",
       "      <td>We are a hectic family of two professional adu...</td>\n",
       "      <td>...</td>\n",
       "      <td>$199.00</td>\n",
       "      <td>5</td>\n",
       "      <td>1125.0</td>\n",
       "      <td>0.0</td>\n",
       "      <td>1.0</td>\n",
       "      <td>2015-08-12</td>\n",
       "      <td>2015-08-12</td>\n",
       "      <td>5.0</td>\n",
       "      <td>NaN</td>\n",
       "      <td>0.01</td>\n",
       "    </tr>\n",
       "  </tbody>\n",
       "</table>\n",
       "<p>3 rows × 34 columns</p>\n",
       "</div>"
      ],
      "text/plain": [
       "             id                           listing_url last_scraped  \\\n",
       "8200  9347957.0  https://www.airbnb.com/rooms/9347957   2022-09-11   \n",
       "4703  6191744.0  https://www.airbnb.com/rooms/6191744   2022-09-11   \n",
       "4988  6445903.0  https://www.airbnb.com/rooms/6445903   2022-09-11   \n",
       "\n",
       "                                    name  \\\n",
       "8200   Large double room in West Dulwich   \n",
       "4703                                room   \n",
       "4988  Beautiful 3 bed house near Arsenal   \n",
       "\n",
       "                                            description     host_id host_name  \\\n",
       "8200  The ROOM is very spacious, it comes with doubl...  48513988.0     Leire   \n",
       "4703  10 minutes from Liverpool Street in single vil...  31712697.0  Vittorio   \n",
       "4988  We have a large, bright Victorian family home ...  33648056.0     Laura   \n",
       "\n",
       "      host_since           host_location  \\\n",
       "8200  2015-11-08               Miami, FL   \n",
       "4703  2015-04-22  London, United Kingdom   \n",
       "4988  2015-05-18  London, United Kingdom   \n",
       "\n",
       "                                             host_about  ...    price  \\\n",
       "8200                                                NaN  ...  $680.00   \n",
       "4703  hello I am Vittorio is a very friendly guy. Wo...  ...   $25.00   \n",
       "4988  We are a hectic family of two professional adu...  ...  $199.00   \n",
       "\n",
       "     minimum_nights  maximum_nights availability_365  number_of_reviews  \\\n",
       "8200              1          1125.0            365.0                0.0   \n",
       "4703              1            30.0              0.0                3.0   \n",
       "4988              5          1125.0              0.0                1.0   \n",
       "\n",
       "      first_review last_review review_scores_rating  license  \\\n",
       "8200           NaN         NaN                  NaN      NaN   \n",
       "4703    2015-05-09  2015-06-03                  2.5      NaN   \n",
       "4988    2015-08-12  2015-08-12                  5.0      NaN   \n",
       "\n",
       "      reviews_per_month  \n",
       "8200                NaN  \n",
       "4703               0.03  \n",
       "4988               0.01  \n",
       "\n",
       "[3 rows x 34 columns]"
      ]
     },
     "execution_count": 53,
     "metadata": {},
     "output_type": "execute_result"
    }
   ],
   "source": [
    "df.sample(3)"
   ]
  },
  {
   "cell_type": "markdown",
   "metadata": {},
   "source": [
    "#### 3.1.1 Fixing the Columns \n",
    "If you look very closely, you'll see that pandas isn't showing you the _full_ range of columns since there are 42! If you'd like to only look at specific columns then you can specify them after the sample method call using what looks like a nested list: `[[<column names as strings>]]`. I'd like you to sample: `['latitude','longitude','license','review_scores_rating','price']` only."
   ]
  },
  {
   "cell_type": "code",
   "execution_count": 55,
   "metadata": {},
   "outputs": [
    {
     "data": {
      "text/html": [
       "<div>\n",
       "<style scoped>\n",
       "    .dataframe tbody tr th:only-of-type {\n",
       "        vertical-align: middle;\n",
       "    }\n",
       "\n",
       "    .dataframe tbody tr th {\n",
       "        vertical-align: top;\n",
       "    }\n",
       "\n",
       "    .dataframe thead th {\n",
       "        text-align: right;\n",
       "    }\n",
       "</style>\n",
       "<table border=\"1\" class=\"dataframe\">\n",
       "  <thead>\n",
       "    <tr style=\"text-align: right;\">\n",
       "      <th></th>\n",
       "      <th>latitude</th>\n",
       "      <th>longitude</th>\n",
       "      <th>license</th>\n",
       "      <th>review_scores_rating</th>\n",
       "      <th>price</th>\n",
       "    </tr>\n",
       "  </thead>\n",
       "  <tbody>\n",
       "    <tr>\n",
       "      <th>1407</th>\n",
       "      <td>51.50714</td>\n",
       "      <td>-0.12500</td>\n",
       "      <td>NaN</td>\n",
       "      <td>4.87</td>\n",
       "      <td>$137.00</td>\n",
       "    </tr>\n",
       "    <tr>\n",
       "      <th>8962</th>\n",
       "      <td>51.51951</td>\n",
       "      <td>-0.18435</td>\n",
       "      <td>NaN</td>\n",
       "      <td>4.73</td>\n",
       "      <td>$205.00</td>\n",
       "    </tr>\n",
       "    <tr>\n",
       "      <th>3609</th>\n",
       "      <td>51.54751</td>\n",
       "      <td>-0.24500</td>\n",
       "      <td>NaN</td>\n",
       "      <td>NaN</td>\n",
       "      <td>$155.00</td>\n",
       "    </tr>\n",
       "  </tbody>\n",
       "</table>\n",
       "</div>"
      ],
      "text/plain": [
       "      latitude  longitude  license  review_scores_rating    price\n",
       "1407  51.50714   -0.12500      NaN                  4.87  $137.00\n",
       "8962  51.51951   -0.18435      NaN                  4.73  $205.00\n",
       "3609  51.54751   -0.24500      NaN                   NaN  $155.00"
      ]
     },
     "execution_count": 55,
     "metadata": {},
     "output_type": "execute_result"
    }
   ],
   "source": [
    "df.sample(3)[['latitude', 'longitude', 'license', 'review_scores_rating', 'price']]"
   ]
  },
  {
   "cell_type": "markdown",
   "metadata": {},
   "source": [
    "#### 3.1.2 Fixing a Random Sample\n",
    "\n",
    "See if you can work out from the documentation (Google search time!) how to get the same 'random' sample every time you re-run this code block:"
   ]
  },
  {
   "cell_type": "code",
   "execution_count": 62,
   "metadata": {},
   "outputs": [
    {
     "data": {
      "text/html": [
       "<div>\n",
       "<style scoped>\n",
       "    .dataframe tbody tr th:only-of-type {\n",
       "        vertical-align: middle;\n",
       "    }\n",
       "\n",
       "    .dataframe tbody tr th {\n",
       "        vertical-align: top;\n",
       "    }\n",
       "\n",
       "    .dataframe thead th {\n",
       "        text-align: right;\n",
       "    }\n",
       "</style>\n",
       "<table border=\"1\" class=\"dataframe\">\n",
       "  <thead>\n",
       "    <tr style=\"text-align: right;\">\n",
       "      <th></th>\n",
       "      <th>latitude</th>\n",
       "      <th>longitude</th>\n",
       "      <th>license</th>\n",
       "      <th>review_scores_rating</th>\n",
       "      <th>price</th>\n",
       "    </tr>\n",
       "  </thead>\n",
       "  <tbody>\n",
       "    <tr>\n",
       "      <th>9953</th>\n",
       "      <td>51.52041</td>\n",
       "      <td>-0.11032</td>\n",
       "      <td>NaN</td>\n",
       "      <td>4.87</td>\n",
       "      <td>$109.00</td>\n",
       "    </tr>\n",
       "    <tr>\n",
       "      <th>3850</th>\n",
       "      <td>51.52002</td>\n",
       "      <td>-0.21225</td>\n",
       "      <td>NaN</td>\n",
       "      <td>4.75</td>\n",
       "      <td>$138.00</td>\n",
       "    </tr>\n",
       "    <tr>\n",
       "      <th>4962</th>\n",
       "      <td>51.59647</td>\n",
       "      <td>-0.06546</td>\n",
       "      <td>NaN</td>\n",
       "      <td>NaN</td>\n",
       "      <td>$35.00</td>\n",
       "    </tr>\n",
       "  </tbody>\n",
       "</table>\n",
       "</div>"
      ],
      "text/plain": [
       "      latitude  longitude  license  review_scores_rating    price\n",
       "9953  51.52041   -0.11032      NaN                  4.87  $109.00\n",
       "3850  51.52002   -0.21225      NaN                  4.75  $138.00\n",
       "4962  51.59647   -0.06546      NaN                   NaN   $35.00"
      ]
     },
     "execution_count": 62,
     "metadata": {},
     "output_type": "execute_result"
    }
   ],
   "source": [
    "df.sample(3, random_state=1)[['latitude','longitude','license','review_scores_rating','price']]"
   ]
  },
  {
   "cell_type": "markdown",
   "metadata": {},
   "source": [
    "### Task 3.2 Dealing with NaNs and Nulls\n",
    "\n",
    "<div class=\"alert alert-block alert-danger\"><b>Difficulty level</b>: Hard. There is a <em>lot</em> going on here and you should be paying close attention.</div>\n",
    "\n",
    "If you look at the sample, you should see that a number of data types that aren't 'right' for their contents: the id columns are floats; the dates aren't dates; there's a boolean that's not a boolean... It would be nice to fix these! \n",
    "\n",
    "<div class=\"alert alert-block alert-info\"><b>Note</b>: I had intended to ask you to fix these by combining code from previous weeks with information provided in the lecture, but it turns out that the InsideAirbnb data set is <i>dirty</i>. There are a lot of <tt>NaN</tt> values and some of these are <i>deeply</i> problematic for some of the column types in pandas. There are also a number of challenges with other columns so, instead, I've opted to show you how I would clean this data as a <i>first pass</i> to get it into a format where it's tractable for further cleaning.</div>"
   ]
  },
  {
   "cell_type": "markdown",
   "metadata": {},
   "source": [
    "#### 3.2.1 Identifying Problem Rows\n",
    "\n",
    "The reason I'm not asking you to do this part yourselves is that it took me nearly an hour just to work out why I couldn't convert some of the columns to the right data types; then I started finding rows like these:"
   ]
  },
  {
   "cell_type": "code",
   "execution_count": 63,
   "metadata": {},
   "outputs": [
    {
     "data": {
      "text/html": [
       "<div>\n",
       "<style scoped>\n",
       "    .dataframe tbody tr th:only-of-type {\n",
       "        vertical-align: middle;\n",
       "    }\n",
       "\n",
       "    .dataframe tbody tr th {\n",
       "        vertical-align: top;\n",
       "    }\n",
       "\n",
       "    .dataframe thead th {\n",
       "        text-align: right;\n",
       "    }\n",
       "</style>\n",
       "<table border=\"1\" class=\"dataframe\">\n",
       "  <thead>\n",
       "    <tr style=\"text-align: right;\">\n",
       "      <th></th>\n",
       "      <th>id</th>\n",
       "      <th>listing_url</th>\n",
       "      <th>last_scraped</th>\n",
       "      <th>name</th>\n",
       "      <th>description</th>\n",
       "      <th>host_id</th>\n",
       "      <th>host_name</th>\n",
       "      <th>host_since</th>\n",
       "      <th>host_location</th>\n",
       "      <th>host_about</th>\n",
       "      <th>...</th>\n",
       "      <th>price</th>\n",
       "      <th>minimum_nights</th>\n",
       "      <th>maximum_nights</th>\n",
       "      <th>availability_365</th>\n",
       "      <th>number_of_reviews</th>\n",
       "      <th>first_review</th>\n",
       "      <th>last_review</th>\n",
       "      <th>review_scores_rating</th>\n",
       "      <th>license</th>\n",
       "      <th>reviews_per_month</th>\n",
       "    </tr>\n",
       "  </thead>\n",
       "  <tbody>\n",
       "    <tr>\n",
       "      <th>9103</th>\n",
       "      <td>10128178.0</td>\n",
       "      <td>https://www.airbnb.com/rooms/10128178</td>\n",
       "      <td>2022-09-11</td>\n",
       "      <td>Homely flat in Central Haggerston/Shoreditch</td>\n",
       "      <td>This is a lived in apartment with two medium s...</td>\n",
       "      <td>233649.0</td>\n",
       "      <td>Michelle</td>\n",
       "      <td>2010-09-13</td>\n",
       "      <td>London, United Kingdom</td>\n",
       "      <td>Michelle McLaughlin -  A professional who work...</td>\n",
       "      <td>...</td>\n",
       "      <td>NaN</td>\n",
       "      <td>NaN</td>\n",
       "      <td>NaN</td>\n",
       "      <td>NaN</td>\n",
       "      <td>NaN</td>\n",
       "      <td>NaN</td>\n",
       "      <td>NaN</td>\n",
       "      <td>NaN</td>\n",
       "      <td>NaN</td>\n",
       "      <td>NaN</td>\n",
       "    </tr>\n",
       "  </tbody>\n",
       "</table>\n",
       "<p>1 rows × 34 columns</p>\n",
       "</div>"
      ],
      "text/plain": [
       "              id                            listing_url last_scraped  \\\n",
       "9103  10128178.0  https://www.airbnb.com/rooms/10128178   2022-09-11   \n",
       "\n",
       "                                              name  \\\n",
       "9103  Homely flat in Central Haggerston/Shoreditch   \n",
       "\n",
       "                                            description   host_id host_name  \\\n",
       "9103  This is a lived in apartment with two medium s...  233649.0  Michelle   \n",
       "\n",
       "      host_since           host_location  \\\n",
       "9103  2010-09-13  London, United Kingdom   \n",
       "\n",
       "                                             host_about  ... price  \\\n",
       "9103  Michelle McLaughlin -  A professional who work...  ...   NaN   \n",
       "\n",
       "     minimum_nights  maximum_nights availability_365  number_of_reviews  \\\n",
       "9103            NaN             NaN              NaN                NaN   \n",
       "\n",
       "      first_review last_review review_scores_rating  license  \\\n",
       "9103           NaN         NaN                  NaN      NaN   \n",
       "\n",
       "      reviews_per_month  \n",
       "9103                NaN  \n",
       "\n",
       "[1 rows x 34 columns]"
      ]
     },
     "execution_count": 63,
     "metadata": {},
     "output_type": "execute_result"
    }
   ],
   "source": [
    "df[df.price.isna()]"
   ]
  },
  {
   "cell_type": "code",
   "execution_count": 67,
   "metadata": {},
   "outputs": [
    {
     "data": {
      "text/plain": [
       "array(['id', 'listing_url', 'last_scraped', 'name', 'description',\n",
       "       'host_id', 'host_name', 'host_since', 'host_location',\n",
       "       'host_about', 'host_is_superhost', 'host_listings_count',\n",
       "       'host_total_listings_count', 'host_verifications', 'latitude',\n",
       "       'longitude', 'property_type', 'room_type', 'accommodates',\n",
       "       'bathrooms', 'bathrooms_text', 'bedrooms', 'beds', 'amenities',\n",
       "       'price', 'minimum_nights', 'maximum_nights', 'availability_365',\n",
       "       'number_of_reviews', 'first_review', 'last_review',\n",
       "       'review_scores_rating', 'license', 'reviews_per_month'],\n",
       "      dtype=object)"
      ]
     },
     "execution_count": 67,
     "metadata": {},
     "output_type": "execute_result"
    }
   ],
   "source": [
    "df.columns.values"
   ]
  },
  {
   "cell_type": "code",
   "execution_count": 68,
   "metadata": {},
   "outputs": [
    {
     "data": {
      "text/html": [
       "<div>\n",
       "<style scoped>\n",
       "    .dataframe tbody tr th:only-of-type {\n",
       "        vertical-align: middle;\n",
       "    }\n",
       "\n",
       "    .dataframe tbody tr th {\n",
       "        vertical-align: top;\n",
       "    }\n",
       "\n",
       "    .dataframe thead th {\n",
       "        text-align: right;\n",
       "    }\n",
       "</style>\n",
       "<table border=\"1\" class=\"dataframe\">\n",
       "  <thead>\n",
       "    <tr style=\"text-align: right;\">\n",
       "      <th></th>\n",
       "      <th>id</th>\n",
       "      <th>listing_url</th>\n",
       "      <th>last_scraped</th>\n",
       "      <th>name</th>\n",
       "      <th>description</th>\n",
       "      <th>host_id</th>\n",
       "      <th>host_name</th>\n",
       "      <th>host_since</th>\n",
       "      <th>host_location</th>\n",
       "      <th>host_about</th>\n",
       "      <th>...</th>\n",
       "      <th>price</th>\n",
       "      <th>minimum_nights</th>\n",
       "      <th>maximum_nights</th>\n",
       "      <th>availability_365</th>\n",
       "      <th>number_of_reviews</th>\n",
       "      <th>first_review</th>\n",
       "      <th>last_review</th>\n",
       "      <th>review_scores_rating</th>\n",
       "      <th>license</th>\n",
       "      <th>reviews_per_month</th>\n",
       "    </tr>\n",
       "  </thead>\n",
       "  <tbody>\n",
       "    <tr>\n",
       "      <th>9103</th>\n",
       "      <td>10128178.0</td>\n",
       "      <td>https://www.airbnb.com/rooms/10128178</td>\n",
       "      <td>2022-09-11</td>\n",
       "      <td>Homely flat in Central Haggerston/Shoreditch</td>\n",
       "      <td>This is a lived in apartment with two medium s...</td>\n",
       "      <td>233649.0</td>\n",
       "      <td>Michelle</td>\n",
       "      <td>2010-09-13</td>\n",
       "      <td>London, United Kingdom</td>\n",
       "      <td>Michelle McLaughlin -  A professional who work...</td>\n",
       "      <td>...</td>\n",
       "      <td>NaN</td>\n",
       "      <td>NaN</td>\n",
       "      <td>NaN</td>\n",
       "      <td>NaN</td>\n",
       "      <td>NaN</td>\n",
       "      <td>NaN</td>\n",
       "      <td>NaN</td>\n",
       "      <td>NaN</td>\n",
       "      <td>NaN</td>\n",
       "      <td>NaN</td>\n",
       "    </tr>\n",
       "  </tbody>\n",
       "</table>\n",
       "<p>1 rows × 34 columns</p>\n",
       "</div>"
      ],
      "text/plain": [
       "              id                            listing_url last_scraped  \\\n",
       "9103  10128178.0  https://www.airbnb.com/rooms/10128178   2022-09-11   \n",
       "\n",
       "                                              name  \\\n",
       "9103  Homely flat in Central Haggerston/Shoreditch   \n",
       "\n",
       "                                            description   host_id host_name  \\\n",
       "9103  This is a lived in apartment with two medium s...  233649.0  Michelle   \n",
       "\n",
       "      host_since           host_location  \\\n",
       "9103  2010-09-13  London, United Kingdom   \n",
       "\n",
       "                                             host_about  ... price  \\\n",
       "9103  Michelle McLaughlin -  A professional who work...  ...   NaN   \n",
       "\n",
       "     minimum_nights  maximum_nights availability_365  number_of_reviews  \\\n",
       "9103            NaN             NaN              NaN                NaN   \n",
       "\n",
       "      first_review last_review review_scores_rating  license  \\\n",
       "9103           NaN         NaN                  NaN      NaN   \n",
       "\n",
       "      reviews_per_month  \n",
       "9103                NaN  \n",
       "\n",
       "[1 rows x 34 columns]"
      ]
     },
     "execution_count": 68,
     "metadata": {},
     "output_type": "execute_result"
    }
   ],
   "source": [
    "df[df.room_type.isna()]"
   ]
  },
  {
   "cell_type": "code",
   "execution_count": 69,
   "metadata": {},
   "outputs": [
    {
     "data": {
      "text/html": [
       "<div>\n",
       "<style scoped>\n",
       "    .dataframe tbody tr th:only-of-type {\n",
       "        vertical-align: middle;\n",
       "    }\n",
       "\n",
       "    .dataframe tbody tr th {\n",
       "        vertical-align: top;\n",
       "    }\n",
       "\n",
       "    .dataframe thead th {\n",
       "        text-align: right;\n",
       "    }\n",
       "</style>\n",
       "<table border=\"1\" class=\"dataframe\">\n",
       "  <thead>\n",
       "    <tr style=\"text-align: right;\">\n",
       "      <th></th>\n",
       "      <th>id</th>\n",
       "      <th>listing_url</th>\n",
       "      <th>last_scraped</th>\n",
       "      <th>name</th>\n",
       "      <th>description</th>\n",
       "      <th>host_id</th>\n",
       "      <th>host_name</th>\n",
       "      <th>host_since</th>\n",
       "      <th>host_location</th>\n",
       "      <th>host_about</th>\n",
       "      <th>...</th>\n",
       "      <th>price</th>\n",
       "      <th>minimum_nights</th>\n",
       "      <th>maximum_nights</th>\n",
       "      <th>availability_365</th>\n",
       "      <th>number_of_reviews</th>\n",
       "      <th>first_review</th>\n",
       "      <th>last_review</th>\n",
       "      <th>review_scores_rating</th>\n",
       "      <th>license</th>\n",
       "      <th>reviews_per_month</th>\n",
       "    </tr>\n",
       "  </thead>\n",
       "  <tbody>\n",
       "    <tr>\n",
       "      <th>9103</th>\n",
       "      <td>10128178.0</td>\n",
       "      <td>https://www.airbnb.com/rooms/10128178</td>\n",
       "      <td>2022-09-11</td>\n",
       "      <td>Homely flat in Central Haggerston/Shoreditch</td>\n",
       "      <td>This is a lived in apartment with two medium s...</td>\n",
       "      <td>233649.0</td>\n",
       "      <td>Michelle</td>\n",
       "      <td>2010-09-13</td>\n",
       "      <td>London, United Kingdom</td>\n",
       "      <td>Michelle McLaughlin -  A professional who work...</td>\n",
       "      <td>...</td>\n",
       "      <td>NaN</td>\n",
       "      <td>NaN</td>\n",
       "      <td>NaN</td>\n",
       "      <td>NaN</td>\n",
       "      <td>NaN</td>\n",
       "      <td>NaN</td>\n",
       "      <td>NaN</td>\n",
       "      <td>NaN</td>\n",
       "      <td>NaN</td>\n",
       "      <td>NaN</td>\n",
       "    </tr>\n",
       "    <tr>\n",
       "      <th>9104</th>\n",
       "      <td>NaN</td>\n",
       "      <td>within an hour</td>\n",
       "      <td>82%</td>\n",
       "      <td>https://a0.muscache.com/im/pictures/user/652bf...</td>\n",
       "      <td>https://a0.muscache.com/im/pictures/user/652bf...</td>\n",
       "      <td>3.0</td>\n",
       "      <td>t</td>\n",
       "      <td>t</td>\n",
       "      <td>London, England, United Kingdom</td>\n",
       "      <td>Hackney</td>\n",
       "      <td>...</td>\n",
       "      <td>104</td>\n",
       "      <td>2022-09-11</td>\n",
       "      <td>10.0</td>\n",
       "      <td>NaN</td>\n",
       "      <td>2.0</td>\n",
       "      <td>0</td>\n",
       "      <td>0.16</td>\n",
       "      <td>NaN</td>\n",
       "      <td>NaN</td>\n",
       "      <td>NaN</td>\n",
       "    </tr>\n",
       "  </tbody>\n",
       "</table>\n",
       "<p>2 rows × 34 columns</p>\n",
       "</div>"
      ],
      "text/plain": [
       "              id                            listing_url last_scraped  \\\n",
       "9103  10128178.0  https://www.airbnb.com/rooms/10128178   2022-09-11   \n",
       "9104         NaN                         within an hour          82%   \n",
       "\n",
       "                                                   name  \\\n",
       "9103       Homely flat in Central Haggerston/Shoreditch   \n",
       "9104  https://a0.muscache.com/im/pictures/user/652bf...   \n",
       "\n",
       "                                            description   host_id host_name  \\\n",
       "9103  This is a lived in apartment with two medium s...  233649.0  Michelle   \n",
       "9104  https://a0.muscache.com/im/pictures/user/652bf...       3.0         t   \n",
       "\n",
       "      host_since                    host_location  \\\n",
       "9103  2010-09-13           London, United Kingdom   \n",
       "9104           t  London, England, United Kingdom   \n",
       "\n",
       "                                             host_about  ... price  \\\n",
       "9103  Michelle McLaughlin -  A professional who work...  ...   NaN   \n",
       "9104                                            Hackney  ...   104   \n",
       "\n",
       "     minimum_nights  maximum_nights availability_365  number_of_reviews  \\\n",
       "9103            NaN             NaN              NaN                NaN   \n",
       "9104     2022-09-11            10.0              NaN                2.0   \n",
       "\n",
       "      first_review last_review review_scores_rating  license  \\\n",
       "9103           NaN         NaN                  NaN      NaN   \n",
       "9104             0        0.16                  NaN      NaN   \n",
       "\n",
       "      reviews_per_month  \n",
       "9103                NaN  \n",
       "9104                NaN  \n",
       "\n",
       "[2 rows x 34 columns]"
      ]
     },
     "execution_count": 69,
     "metadata": {},
     "output_type": "execute_result"
    }
   ],
   "source": [
    "df[~(df.price.str.startswith('$', na=False))]"
   ]
  },
  {
   "cell_type": "markdown",
   "metadata": {},
   "source": [
    "Notice that the row with index value `9104` is clearly _wrong_: if I had to guess, I'd say that it's some kind of partial extract/write process because there _are_ elements in there that look right but they are in the wrong columns. So we can _probably_ drop some of these rows, but one thing to do is look at the frequency of NaNs across the data frame _first_. So we need to look for NaNs and Nulls, but it's quite obvious that a `NaN` in the listing id is a basic problem and we should [drop these](https://chrisalbon.com/python/data_wrangling/pandas_dropping_column_and_rows/)."
   ]
  },
  {
   "cell_type": "code",
   "execution_count": 70,
   "metadata": {},
   "outputs": [
    {
     "data": {
      "text/html": [
       "<div>\n",
       "<style scoped>\n",
       "    .dataframe tbody tr th:only-of-type {\n",
       "        vertical-align: middle;\n",
       "    }\n",
       "\n",
       "    .dataframe tbody tr th {\n",
       "        vertical-align: top;\n",
       "    }\n",
       "\n",
       "    .dataframe thead th {\n",
       "        text-align: right;\n",
       "    }\n",
       "</style>\n",
       "<table border=\"1\" class=\"dataframe\">\n",
       "  <thead>\n",
       "    <tr style=\"text-align: right;\">\n",
       "      <th></th>\n",
       "      <th>id</th>\n",
       "      <th>listing_url</th>\n",
       "      <th>name</th>\n",
       "      <th>description</th>\n",
       "      <th>host_id</th>\n",
       "      <th>host_name</th>\n",
       "      <th>price</th>\n",
       "    </tr>\n",
       "  </thead>\n",
       "  <tbody>\n",
       "    <tr>\n",
       "      <th>9104</th>\n",
       "      <td>NaN</td>\n",
       "      <td>within an hour</td>\n",
       "      <td>https://a0.muscache.com/im/pictures/user/652bf...</td>\n",
       "      <td>https://a0.muscache.com/im/pictures/user/652bf...</td>\n",
       "      <td>3.0</td>\n",
       "      <td>t</td>\n",
       "      <td>104</td>\n",
       "    </tr>\n",
       "  </tbody>\n",
       "</table>\n",
       "</div>"
      ],
      "text/plain": [
       "      id     listing_url                                               name  \\\n",
       "9104 NaN  within an hour  https://a0.muscache.com/im/pictures/user/652bf...   \n",
       "\n",
       "                                            description  host_id host_name  \\\n",
       "9104  https://a0.muscache.com/im/pictures/user/652bf...      3.0         t   \n",
       "\n",
       "     price  \n",
       "9104   104  "
      ]
     },
     "execution_count": 70,
     "metadata": {},
     "output_type": "execute_result"
    }
   ],
   "source": [
    "df[df.id.isna()][['id','listing_url','name','description','host_id','host_name','price']]"
   ]
  },
  {
   "cell_type": "markdown",
   "metadata": {},
   "source": [
    "As always, if you don't know that's going on, break it down:\n",
    "\n",
    "- You have seen how `[[<column names>]]` works, so that's just selecting the columns that we want to show.\n",
    "- You know how `df[<selection criteria>]` works, so that isn't anything really new either!\n",
    "- So the only really new part is `df.id.isna()`: `df.id` is the `id` column (we could have written this `df['id']` if we wanted) and `isna()` is a test for whether or not a value is NaN. \n",
    "\n",
    "So this shows that only one row in the 10,000 row sub-sample has a NaN for its id."
   ]
  },
  {
   "cell_type": "markdown",
   "metadata": {},
   "source": [
    "If you're not sure what the next line does, try breaking it down by running the inner bits before you run the `drop` command; and also try looking online for examples of how to use `df.drop` (e.g. just up above):"
   ]
  },
  {
   "cell_type": "code",
   "execution_count": 72,
   "metadata": {},
   "outputs": [
    {
     "data": {
      "text/html": [
       "<div>\n",
       "<style scoped>\n",
       "    .dataframe tbody tr th:only-of-type {\n",
       "        vertical-align: middle;\n",
       "    }\n",
       "\n",
       "    .dataframe tbody tr th {\n",
       "        vertical-align: top;\n",
       "    }\n",
       "\n",
       "    .dataframe thead th {\n",
       "        text-align: right;\n",
       "    }\n",
       "</style>\n",
       "<table border=\"1\" class=\"dataframe\">\n",
       "  <thead>\n",
       "    <tr style=\"text-align: right;\">\n",
       "      <th></th>\n",
       "      <th>id</th>\n",
       "      <th>listing_url</th>\n",
       "      <th>last_scraped</th>\n",
       "      <th>name</th>\n",
       "      <th>description</th>\n",
       "      <th>host_id</th>\n",
       "      <th>host_name</th>\n",
       "      <th>host_since</th>\n",
       "      <th>host_location</th>\n",
       "      <th>host_about</th>\n",
       "      <th>...</th>\n",
       "      <th>price</th>\n",
       "      <th>minimum_nights</th>\n",
       "      <th>maximum_nights</th>\n",
       "      <th>availability_365</th>\n",
       "      <th>number_of_reviews</th>\n",
       "      <th>first_review</th>\n",
       "      <th>last_review</th>\n",
       "      <th>review_scores_rating</th>\n",
       "      <th>license</th>\n",
       "      <th>reviews_per_month</th>\n",
       "    </tr>\n",
       "  </thead>\n",
       "  <tbody>\n",
       "    <tr>\n",
       "      <th>9104</th>\n",
       "      <td>NaN</td>\n",
       "      <td>within an hour</td>\n",
       "      <td>82%</td>\n",
       "      <td>https://a0.muscache.com/im/pictures/user/652bf...</td>\n",
       "      <td>https://a0.muscache.com/im/pictures/user/652bf...</td>\n",
       "      <td>3.0</td>\n",
       "      <td>t</td>\n",
       "      <td>t</td>\n",
       "      <td>London, England, United Kingdom</td>\n",
       "      <td>Hackney</td>\n",
       "      <td>...</td>\n",
       "      <td>104</td>\n",
       "      <td>2022-09-11</td>\n",
       "      <td>10.0</td>\n",
       "      <td>NaN</td>\n",
       "      <td>2.0</td>\n",
       "      <td>0</td>\n",
       "      <td>0.16</td>\n",
       "      <td>NaN</td>\n",
       "      <td>NaN</td>\n",
       "      <td>NaN</td>\n",
       "    </tr>\n",
       "  </tbody>\n",
       "</table>\n",
       "<p>1 rows × 34 columns</p>\n",
       "</div>"
      ],
      "text/plain": [
       "      id     listing_url last_scraped  \\\n",
       "9104 NaN  within an hour          82%   \n",
       "\n",
       "                                                   name  \\\n",
       "9104  https://a0.muscache.com/im/pictures/user/652bf...   \n",
       "\n",
       "                                            description  host_id host_name  \\\n",
       "9104  https://a0.muscache.com/im/pictures/user/652bf...      3.0         t   \n",
       "\n",
       "     host_since                    host_location host_about  ... price  \\\n",
       "9104          t  London, England, United Kingdom    Hackney  ...   104   \n",
       "\n",
       "     minimum_nights  maximum_nights availability_365  number_of_reviews  \\\n",
       "9104     2022-09-11            10.0              NaN                2.0   \n",
       "\n",
       "      first_review last_review review_scores_rating  license  \\\n",
       "9104             0        0.16                  NaN      NaN   \n",
       "\n",
       "      reviews_per_month  \n",
       "9104                NaN  \n",
       "\n",
       "[1 rows x 34 columns]"
      ]
     },
     "execution_count": 72,
     "metadata": {},
     "output_type": "execute_result"
    }
   ],
   "source": [
    "df[df.id.isna()]"
   ]
  },
  {
   "cell_type": "code",
   "execution_count": 73,
   "metadata": {},
   "outputs": [],
   "source": [
    "df.drop(df[df.id.isna()].index.array, axis=0, inplace=True)"
   ]
  },
  {
   "cell_type": "code",
   "execution_count": 74,
   "metadata": {},
   "outputs": [
    {
     "data": {
      "text/html": [
       "<div>\n",
       "<style scoped>\n",
       "    .dataframe tbody tr th:only-of-type {\n",
       "        vertical-align: middle;\n",
       "    }\n",
       "\n",
       "    .dataframe tbody tr th {\n",
       "        vertical-align: top;\n",
       "    }\n",
       "\n",
       "    .dataframe thead th {\n",
       "        text-align: right;\n",
       "    }\n",
       "</style>\n",
       "<table border=\"1\" class=\"dataframe\">\n",
       "  <thead>\n",
       "    <tr style=\"text-align: right;\">\n",
       "      <th></th>\n",
       "      <th>id</th>\n",
       "      <th>listing_url</th>\n",
       "      <th>last_scraped</th>\n",
       "      <th>name</th>\n",
       "      <th>description</th>\n",
       "      <th>host_id</th>\n",
       "      <th>host_name</th>\n",
       "      <th>host_since</th>\n",
       "      <th>host_location</th>\n",
       "      <th>host_about</th>\n",
       "      <th>...</th>\n",
       "      <th>price</th>\n",
       "      <th>minimum_nights</th>\n",
       "      <th>maximum_nights</th>\n",
       "      <th>availability_365</th>\n",
       "      <th>number_of_reviews</th>\n",
       "      <th>first_review</th>\n",
       "      <th>last_review</th>\n",
       "      <th>review_scores_rating</th>\n",
       "      <th>license</th>\n",
       "      <th>reviews_per_month</th>\n",
       "    </tr>\n",
       "  </thead>\n",
       "  <tbody>\n",
       "  </tbody>\n",
       "</table>\n",
       "<p>0 rows × 34 columns</p>\n",
       "</div>"
      ],
      "text/plain": [
       "Empty DataFrame\n",
       "Columns: [id, listing_url, last_scraped, name, description, host_id, host_name, host_since, host_location, host_about, host_is_superhost, host_listings_count, host_total_listings_count, host_verifications, latitude, longitude, property_type, room_type, accommodates, bathrooms, bathrooms_text, bedrooms, beds, amenities, price, minimum_nights, maximum_nights, availability_365, number_of_reviews, first_review, last_review, review_scores_rating, license, reviews_per_month]\n",
       "Index: []\n",
       "\n",
       "[0 rows x 34 columns]"
      ]
     },
     "execution_count": 74,
     "metadata": {},
     "output_type": "execute_result"
    }
   ],
   "source": [
    "df[df.id.isna()]"
   ]
  },
  {
   "cell_type": "markdown",
   "metadata": {},
   "source": [
    "With that really troublesome data out of the way, you can now turn to [counting NaNs or Nulls](https://www.delftstack.com/howto/python-pandas/how-to-count-the-nan-values-in-a-column-in-pandas-dataframe/#df.isnull.sum-method-to-count-nan-occurrences) in the remaining data with a view to identifying other rows that can probably be dropped."
   ]
  },
  {
   "cell_type": "markdown",
   "metadata": {},
   "source": [
    "#### 3.2.2: Counting Nulls by Column\n",
    "\n",
    "As a starting point I would look to drop the columns that contain only NaNs. Remember that we've dropped a row from the data frame so our maximum is now $n-1$)! Notice how this next command works:\n",
    "```python\n",
    "# returns a data frame with all values set to True/False according to Null status\n",
    "df.isnull() \n",
    "# counts these values by column (we'll see another option in a moment)\n",
    "df.isnull.sum(axis=0) \n",
    "# Sort results in descending order\n",
    "df.isnull.sum(axis=0).sort_values(ascending=False) \n",
    "```"
   ]
  },
  {
   "cell_type": "code",
   "execution_count": 76,
   "metadata": {},
   "outputs": [
    {
     "data": {
      "text/plain": [
       "license                      9999\n",
       "bathrooms                    9999\n",
       "host_about                   3207\n",
       "reviews_per_month            2192\n",
       "review_scores_rating         2192\n",
       "first_review                 2192\n",
       "last_review                  2192\n",
       "host_location                 558\n",
       "bedrooms                      269\n",
       "beds                          117\n",
       "bathrooms_text                 73\n",
       "description                    27\n",
       "name                           16\n",
       "host_total_listings_count       6\n",
       "host_listings_count             6\n",
       "host_since                      5\n",
       "host_name                       5\n",
       "amenities                       1\n",
       "number_of_reviews               1\n",
       "availability_365                1\n",
       "maximum_nights                  1\n",
       "minimum_nights                  1\n",
       "price                           1\n",
       "room_type                       1\n",
       "accommodates                    1\n",
       "property_type                   1\n",
       "longitude                       1\n",
       "latitude                        1\n",
       "host_verifications              1\n",
       "host_is_superhost               1\n",
       "listing_url                     0\n",
       "host_id                         0\n",
       "last_scraped                    0\n",
       "id                              0\n",
       "dtype: int64"
      ]
     },
     "execution_count": 76,
     "metadata": {},
     "output_type": "execute_result"
    }
   ],
   "source": [
    "df.isnull().sum(axis=0).sort_values(ascending=False)"
   ]
  },
  {
   "cell_type": "code",
   "execution_count": 77,
   "metadata": {},
   "outputs": [
    {
     "data": {
      "text/plain": [
       "license                 9999\n",
       "bathrooms               9999\n",
       "host_about              3207\n",
       "reviews_per_month       2192\n",
       "review_scores_rating    2192\n",
       "first_review            2192\n",
       "last_review             2192\n",
       "host_location            558\n",
       "bedrooms                 269\n",
       "beds                     117\n",
       "bathrooms_text            73\n",
       "description               27\n",
       "dtype: int64"
      ]
     },
     "execution_count": 77,
     "metadata": {},
     "output_type": "execute_result"
    }
   ],
   "source": [
    "df.isnull().sum(axis=0).sort_values(ascending=False)[:12]"
   ]
  },
  {
   "cell_type": "markdown",
   "metadata": {},
   "source": [
    "The most obvious ones here are:\n",
    "```\n",
    "license                           9999\n",
    "bathrooms                         9999\n",
    "host_about                        2489\n",
    "```"
   ]
  },
  {
   "cell_type": "code",
   "execution_count": 78,
   "metadata": {},
   "outputs": [],
   "source": [
    "df.drop(columns=['bathrooms','license','host_about'], inplace=True)"
   ]
  },
  {
   "cell_type": "code",
   "execution_count": 79,
   "metadata": {},
   "outputs": [
    {
     "name": "stdout",
     "output_type": "stream",
     "text": [
      "<class 'pandas.core.frame.DataFrame'>\n",
      "Int64Index: 9999 entries, 0 to 9999\n",
      "Data columns (total 31 columns):\n",
      " #   Column                     Non-Null Count  Dtype  \n",
      "---  ------                     --------------  -----  \n",
      " 0   id                         9999 non-null   float64\n",
      " 1   listing_url                9999 non-null   object \n",
      " 2   last_scraped               9999 non-null   object \n",
      " 3   name                       9983 non-null   object \n",
      " 4   description                9972 non-null   object \n",
      " 5   host_id                    9999 non-null   float64\n",
      " 6   host_name                  9994 non-null   object \n",
      " 7   host_since                 9994 non-null   object \n",
      " 8   host_location              9441 non-null   object \n",
      " 9   host_is_superhost          9998 non-null   object \n",
      " 10  host_listings_count        9993 non-null   object \n",
      " 11  host_total_listings_count  9993 non-null   float64\n",
      " 12  host_verifications         9998 non-null   object \n",
      " 13  latitude                   9998 non-null   float64\n",
      " 14  longitude                  9998 non-null   float64\n",
      " 15  property_type              9998 non-null   object \n",
      " 16  room_type                  9998 non-null   object \n",
      " 17  accommodates               9998 non-null   float64\n",
      " 18  bathrooms_text             9926 non-null   object \n",
      " 19  bedrooms                   9730 non-null   float64\n",
      " 20  beds                       9882 non-null   float64\n",
      " 21  amenities                  9998 non-null   object \n",
      " 22  price                      9998 non-null   object \n",
      " 23  minimum_nights             9998 non-null   object \n",
      " 24  maximum_nights             9998 non-null   float64\n",
      " 25  availability_365           9998 non-null   float64\n",
      " 26  number_of_reviews          9998 non-null   float64\n",
      " 27  first_review               7807 non-null   object \n",
      " 28  last_review                7807 non-null   object \n",
      " 29  review_scores_rating       7807 non-null   float64\n",
      " 30  reviews_per_month          7807 non-null   float64\n",
      "dtypes: float64(13), object(18)\n",
      "memory usage: 2.4+ MB\n"
     ]
    }
   ],
   "source": [
    "df.info()"
   ]
  },
  {
   "cell_type": "markdown",
   "metadata": {},
   "source": [
    "Because we have dropped everything `inplace` the code simply runs and doesn't return anything."
   ]
  },
  {
   "cell_type": "markdown",
   "metadata": {},
   "source": [
    "#### 3.2.3: Counting Nulls by Row\n",
    "\n",
    "We now know that there _are_ still quite a few problems, but we do still need a way to identify the rows that are causing most of the problems.\n",
    "\n",
    "Notice here that the change from `axis=0` to `axis=1` changes the 'direction' of the `sum` from columns to rows. And we are getting back a data series because the summing operation reduces it to just one column."
   ]
  },
  {
   "cell_type": "code",
   "execution_count": 80,
   "metadata": {},
   "outputs": [
    {
     "data": {
      "text/plain": [
       "9103    22\n",
       "7415     9\n",
       "6959     9\n",
       "6365     9\n",
       "5697     9\n",
       "4511     9\n",
       "2451     8\n",
       "590      7\n",
       "457      7\n",
       "1307     7\n",
       "845      7\n",
       "842      7\n",
       "369      7\n",
       "679      7\n",
       "637      7\n",
       "751      6\n",
       "724      6\n",
       "706      6\n",
       "4965     6\n",
       "6991     6\n",
       "dtype: int64"
      ]
     },
     "execution_count": 80,
     "metadata": {},
     "output_type": "execute_result"
    }
   ],
   "source": [
    "df.isnull().sum(axis=1).sort_values(ascending=False).head(20)"
   ]
  },
  {
   "cell_type": "markdown",
   "metadata": {},
   "source": [
    "So that is Series showing how many NaN values there are by index value. You should see something like:\n",
    "```\n",
    "9103    22\n",
    "```\n",
    "If we save the results to a variable called `probs` (i.e. problems) then we can decide what to do next.\n",
    "\n",
    "<div class=\"alert alert-block alert-warning\"><b>Note</b>: there's a chance that Python will complain why you try to run the third line of code. This is particularly likely if you are using Anaconda Python directly (i.e. not Docker). In that case you need to add the code listed at the start of Task 5.</div>"
   ]
  },
  {
   "cell_type": "code",
   "execution_count": 81,
   "metadata": {},
   "outputs": [
    {
     "name": "stdout",
     "output_type": "stream",
     "text": [
      "<class 'pandas.core.series.Series'>\n"
     ]
    },
    {
     "data": {
      "text/plain": [
       "<AxesSubplot:ylabel='Frequency'>"
      ]
     },
     "execution_count": 81,
     "metadata": {},
     "output_type": "execute_result"
    },
    {
     "data": {
      "image/png": "[encoded data removed]",
      "text/plain": [
       "<Figure size 432x288 with 1 Axes>"
      ]
     },
     "metadata": {
      "needs_background": "light"
     },
     "output_type": "display_data"
    }
   ],
   "source": [
    "probs = df.isnull().sum(axis=1)\n",
    "print(type(probs))       # Note that this has returned a series!\n",
    "probs.plot.hist(bins=30) # Oooooooh, check out what we can do with a series!"
   ]
  },
  {
   "cell_type": "markdown",
   "metadata": {},
   "source": [
    "Looking at this histogram, these look like two groups in the data so I would start there. I would take values greater than 3–5 as being ones that are most likely be problematic. We can use the index from `probs` to select out the rows we want to inspect from the main data frame.\n",
    "\n",
    "Here's another bit of code that bears unpacking:\n",
    "\n",
    "1. `probs > 7`: this selects only those rows in the 'probs' series whose value is greater than 7\n",
    "2. `probs[...].index` returns the index values from the Series, which we will then pass to the `drop` command.\n",
    "3. `df.drop(..., inplace=True)` will then drop the rows selected by `probs[probs>7].index`."
   ]
  },
  {
   "cell_type": "code",
   "execution_count": 82,
   "metadata": {},
   "outputs": [],
   "source": [
    "df.drop(probs[probs > 5].index, inplace=True)"
   ]
  },
  {
   "cell_type": "code",
   "execution_count": 83,
   "metadata": {},
   "outputs": [
    {
     "name": "stdout",
     "output_type": "stream",
     "text": [
      "Have reduced data frame to: 9948 rows and 31 columns\n"
     ]
    }
   ],
   "source": [
    "print(f\"Have reduced data frame to: {df.shape[0]} rows and {df.shape[1]} columns\")"
   ]
  },
  {
   "cell_type": "markdown",
   "metadata": {},
   "source": [
    "### Task 3.3 Profiling\n",
    "\n",
    "<div class=\"alert alert-block alert-success\"><b>Difficulty level</b>: Low.</div>\n",
    "\n",
    "The Pandas Profiling tool offers an alternative way of understanding what's going on in your data. You might be tempted to ask why we didn't use this straight away on the full data set -- well, if you really want to know, try copying and pasting this code back to the start of the practical and seeing what happens when you profile all 70,000-odd rows and 70-odd columns..."
   ]
  },
  {
   "cell_type": "markdown",
   "metadata": {},
   "source": [
    "#### 3.3.1 Specify the Profiling Columns\n",
    "\n",
    "Looking back over earlier code see if you can work out how to profile `latitude`, `longitude`,and `review_scores_rating` together."
   ]
  },
  {
   "cell_type": "code",
   "execution_count": null,
   "metadata": {},
   "outputs": [],
   "source": [
    "from pandas_profiling import ProfileReport\n",
    "profile = ProfileReport(??, title=\"Pandas Profiling Report\")"
   ]
  },
  {
   "cell_type": "markdown",
   "metadata": {},
   "source": [
    "#### 3.3.2 Profiling Targets\n",
    "\n",
    "You can write the profile either directly into the Jupyter notebook (this file) or into a separate HTML (i.e. Web) page."
   ]
  },
  {
   "cell_type": "code",
   "execution_count": null,
   "metadata": {},
   "outputs": [],
   "source": [
    "profile.to_notebook_iframe()\n",
    "# You can also write this profile to a web page:\n",
    "# profile.to_file(\"your_report.html\")"
   ]
  },
  {
   "cell_type": "markdown",
   "metadata": {},
   "source": [
    "## Task 4. Fixing Data Types"
   ]
  },
  {
   "cell_type": "markdown",
   "metadata": {},
   "source": [
    "If you want to challenge yourself, then I'd suggest trying to work out how to adapt what we saw in previous weeks using the data type dictionary to map column names to column types; however, a more straightforward way to do this is to create different for loops for each:"
   ]
  },
  {
   "cell_type": "markdown",
   "metadata": {},
   "source": [
    "### Task 4.1 Managing Memory\n",
    "\n",
    "<div class=\"alert alert-block alert-success\"><b>Difficulty level</b>: Low.</div>\n",
    "\n",
    "As to _why_ you'd want to fix your data types, there are two reasons: 1) to ensure that you can make the *most* of your data; 2) to ensure that it takes up as little space as possible in memory. Some simple examples:\n",
    "\n",
    "- A column containing only `'True'` (4 bytes) and `'False'` (5 bytes) will take up much more space than a column containing only `True` and `False` (1 bit each).\n",
    "- A column containing only `'Red'`, `'Green'`, and `'Blue'` (3, 5, and 4 bytes each respectively) will take up much more space that a column where we use the numbers `1, 2, 3` to represent these values and have a map that tells us `1==Red`, `2==Blue`, and `3==Green`.\n",
    "\n",
    "Let's test this idea out:"
   ]
  },
  {
   "cell_type": "code",
   "execution_count": null,
   "metadata": {},
   "outputs": [],
   "source": [
    "rtm = df.room_type.memory_usage(deep=True) # Room Type Memory\n",
    "ctm = df.room_type.astype('category').memory_usage(deep=True) # Categorical Type Memory\n",
    "\n",
    "print(f\"The raw memory usage of `room_type` is {rtm/1000:,.0f} Kb.\")\n",
    "print(f\"The categorical memory usage of `room_type` is {ctm/1000:,.0f} Kb.\")\n",
    "print(f\"That's {(ctm/rtm)*100:.0f}% of the original!\")"
   ]
  },
  {
   "cell_type": "code",
   "execution_count": null,
   "metadata": {},
   "outputs": [],
   "source": [
    "shm = df.host_is_superhost.memory_usage(deep=True) # Super Host Memory\n",
    "bhm = df.host_is_superhost.replace({'f':False, 't':True}).astype('bool').memory_usage(deep=True) # Boolean Host Memory\n",
    "\n",
    "print(f\"The raw memory usage of `host_is_superhost` is {shm/1000:,.0f} Kb.\")\n",
    "print(f\"The boolean memory usage of `host_is_superhost` is {bhm/1000:,.0f} Kb.\")\n",
    "print(f\"That's {(bhm/shm)*100:.0f}% of the original!\")"
   ]
  },
  {
   "cell_type": "markdown",
   "metadata": {},
   "source": [
    "### Task 4.2 Boolean Values\n",
    "\n",
    "<div class=\"alert alert-block alert-warning\"><b>Difficulty level</b>: Moderate.</div>\n",
    "\n",
    "Let's start with columns that are likely to be boolean:"
   ]
  },
  {
   "cell_type": "code",
   "execution_count": null,
   "metadata": {},
   "outputs": [],
   "source": [
    "bools = ['host_is_superhost']\n",
    "df.sample(5, random_state=43)[bools]"
   ]
  },
  {
   "cell_type": "markdown",
   "metadata": {},
   "source": [
    "Here we have to `map` 't' to True and 'f' to False _before_ converting the column to a boolean type. If you simply tried to replace them with the strings 'True' and 'False', then the conversion would run into the same problem as Week 3: any string that is not `None` will convert a True boolean."
   ]
  },
  {
   "cell_type": "code",
   "execution_count": null,
   "metadata": {},
   "outputs": [],
   "source": [
    "# This approach requires us to map 't' \n",
    "# and 'f' to True and False\n",
    "for b in bools:\n",
    "    print(f\"Converting {b}\")\n",
    "    df[b] = df[b].replace({'f':False, 't':True}).astype('bool')"
   ]
  },
  {
   "cell_type": "code",
   "execution_count": null,
   "metadata": {},
   "outputs": [],
   "source": [
    "df.sample(5, random_state=43)[bools]"
   ]
  },
  {
   "cell_type": "markdown",
   "metadata": {},
   "source": [
    "### Task 4.3: Dates\n",
    "\n",
    "<div class=\"alert alert-block alert-danger\"><b>Difficulty level</b>: Hard.</div>\n",
    "\n",
    "I've found dates to be particularly challenging, though pandas has _tried_ to make this process less painful than before using the `infer_datetime_format` option. What can be particularly frustrating is if a row has a non-sensical date value (e.g. `t`, as happened in 2019/20 when I taught this module) in _one_ of the datetime columns and this causes the type conversion to fail. When that happens, pandas is not always great about communicating where a problem occurred and I eventually worked it out by trying to convert _parts_ of each series in the data frame to a datetime until I had a block that failed. I then knew that I could narrow this down using integer location indexing."
   ]
  },
  {
   "cell_type": "code",
   "execution_count": null,
   "metadata": {},
   "outputs": [],
   "source": [
    "dates = ['last_scraped','host_since','first_review','last_review']\n",
    "df.sample(5, random_state=43)[dates]"
   ]
  },
  {
   "cell_type": "code",
   "execution_count": null,
   "metadata": {},
   "outputs": [],
   "source": [
    "for d in dates:\n",
    "    print(\"Converting \" + d)\n",
    "    df[d] = pd.to_datetime(df[d], infer_datetime_format=True)"
   ]
  },
  {
   "cell_type": "code",
   "execution_count": null,
   "metadata": {},
   "outputs": [],
   "source": [
    "df.sample(5, random_state=43)[dates]"
   ]
  },
  {
   "cell_type": "markdown",
   "metadata": {},
   "source": [
    "Of course, it's not actually clear there what has changed! But if you dig a little more deeply:"
   ]
  },
  {
   "cell_type": "code",
   "execution_count": null,
   "metadata": {},
   "outputs": [],
   "source": [
    "print(df[dates[1]].dtype, \"\\n\")\n",
    "df.sample(5, random_state=45)[dates[1]].dt.strftime('%A %B %d, %Y')\n",
    "# Try some other columns and other formats!"
   ]
  },
  {
   "cell_type": "markdown",
   "metadata": {},
   "source": [
    "In that line of code we:\n",
    "- Took a random sample (setting the state to 45)\n",
    "- Took the first column from the dates list (`dates[1]`)\n",
    "- Used the _date_ accessor method \n",
    "- And called `string format time` with the format `%A %B %d, %Y` (Full Day of Week, Month Name, Date, 4-digit Year)"
   ]
  },
  {
   "cell_type": "markdown",
   "metadata": {},
   "source": [
    "### Task 4.4: Categories\n",
    "\n",
    "<div class=\"alert alert-block alert-warning\"><b>Difficulty level</b>: Moderate.</div>\n",
    "\n",
    "We know that these are likely to be categories because there'd be no other way to allow users to effectively search Airbnb."
   ]
  },
  {
   "cell_type": "code",
   "execution_count": null,
   "metadata": {},
   "outputs": [],
   "source": [
    "cats = ['property_type','room_type']\n",
    "df.sample(5, random_state=42)[cats]"
   ]
  },
  {
   "cell_type": "markdown",
   "metadata": {},
   "source": [
    "This next piece of code is quite useful for grouping and counting operations: we are counting the occurences of each unique value in part particular column or combination of columns:"
   ]
  },
  {
   "cell_type": "code",
   "execution_count": null,
   "metadata": {},
   "outputs": [],
   "source": [
    "df[cats[0]].value_counts()"
   ]
  },
  {
   "cell_type": "code",
   "execution_count": null,
   "metadata": {},
   "outputs": [],
   "source": [
    "df[cats[1]].value_counts()"
   ]
  },
  {
   "cell_type": "markdown",
   "metadata": {},
   "source": [
    "<div class=\"alert alert-block alert-success\"><b>&#128161; Tip</b>: one column has <i>many</i> different values (including Campers/RVs and Yurts!), the other has just four. If I were looking to conduct research I'd probably <i>start</i> with the <tt>room_type</tt> column since I may not care about hotels and therefore never even need to decide whether I care about boutique ones!</div>"
   ]
  },
  {
   "cell_type": "code",
   "execution_count": null,
   "metadata": {},
   "outputs": [],
   "source": [
    "for c in cats:\n",
    "    print(f\"Converting {c}\")\n",
    "    df[c] = df[c].astype('category')"
   ]
  },
  {
   "cell_type": "code",
   "execution_count": null,
   "metadata": {},
   "outputs": [],
   "source": [
    "print(df[cats[1]].cat.categories.values)"
   ]
  },
  {
   "cell_type": "code",
   "execution_count": null,
   "metadata": {},
   "outputs": [],
   "source": [
    "df.sample(5, random_state=42)[cats]"
   ]
  },
  {
   "cell_type": "markdown",
   "metadata": {},
   "source": [
    "### Task 4.5: Dealing with Strings\n",
    "\n",
    "<div class=\"alert alert-block alert-danger\"><b>Difficulty level</b>: Hard.</div>\n",
    "\n",
    "We'll have to put some more work into deal with the description and other more free-from text fields later in the term, but for now let's just deal with a straightforward one: price!"
   ]
  },
  {
   "cell_type": "code",
   "execution_count": null,
   "metadata": {},
   "outputs": [],
   "source": [
    "money = ['price']\n",
    "df.sample(5, random_state=42)[money]"
   ]
  },
  {
   "cell_type": "markdown",
   "metadata": {},
   "source": [
    "**You will get an error when you run this**, that's because I want you to do a little thinking about how to extend the code to fix the _second_ problem. It's the same type of problem, you'll just need to figure out how to solve it by adapting code you've already got!\n",
    "\n",
    "<div class=\"alert alert-block alert-info\"><b>Note</b>: For now don't worry about what <tt>regex=False</tt> means. It will all make sense when we get to <em>dealing with text</em>.</div>"
   ]
  },
  {
   "cell_type": "code",
   "execution_count": null,
   "metadata": {},
   "outputs": [],
   "source": [
    "for m in money:\n",
    "    print(f\"Converting {m}\")\n",
    "    df[m] = df[m].str.replace('$','', regex=False).astype('float')"
   ]
  },
  {
   "cell_type": "code",
   "execution_count": null,
   "metadata": {},
   "outputs": [],
   "source": [
    "for m in money:\n",
    "    print(f\"Converting {m}\")\n",
    "    df[m] = df[m].str.replace('$','', regex=False).str.replace(??).astype('float')"
   ]
  },
  {
   "cell_type": "code",
   "execution_count": null,
   "metadata": {},
   "outputs": [],
   "source": [
    "df.sample(5, random_state=42)[money]"
   ]
  },
  {
   "cell_type": "code",
   "execution_count": null,
   "metadata": {},
   "outputs": [],
   "source": [
    "df.sort_values(by=money[0], ascending=False).head(10)[['id','name','price','minimum_nights']]"
   ]
  },
  {
   "cell_type": "markdown",
   "metadata": {},
   "source": [
    "### Task 4.6: Dealing with Integers\n",
    "\n",
    "<div class=\"alert alert-block alert-danger\"><b>Difficulty level</b>: Hard.</div>\n",
    "\n",
    "This is the issue that made me abandon the idea of making you clean the data yourselves. Although _floats_ have no issues with `np.nan` in the Series, by default there are no numpy integer arrays that can cope with NaNs. This was such a major issue for Pandas that they've actually created their _own_ data type that does support NaN values in integer columns. There are a lot of integer columns, but only one of them seems to be a problem."
   ]
  },
  {
   "cell_type": "code",
   "execution_count": null,
   "metadata": {},
   "outputs": [],
   "source": [
    "ints  = ['id','host_id','host_listings_count','host_total_listings_count','accommodates',\n",
    "         'beds','minimum_nights','maximum_nights','availability_365']\n",
    "for i in ints:\n",
    "    print(f\"Converting {i}\")\n",
    "    try:\n",
    "        df[i] = df[i].astype('float').astype('int')\n",
    "    except ValueError as e:\n",
    "        print(\"  - !!!Converting to unsigned 16-bit integer!!!\")\n",
    "        df[i] = df[i].astype('float').astype(pd.UInt16Dtype())"
   ]
  },
  {
   "cell_type": "markdown",
   "metadata": {},
   "source": [
    "So we convert the column but using a `try / except` approach that allows to trap `ValueError` exceptions triggered by the presence of NaNs in the column. The following code tells us that there are just eight of these in the 10k sample, but they're enough to cause the code to fail if you don't trap them. The alternatives would be to: a) drop those rows; or b) leave the data as floats. For some reason the latter offends my sense of order, and the former feels like avoiding the problem rather than dealing with it."
   ]
  },
  {
   "cell_type": "code",
   "execution_count": null,
   "metadata": {},
   "outputs": [],
   "source": [
    "df.beds.isna().value_counts()"
   ]
  },
  {
   "cell_type": "markdown",
   "metadata": {},
   "source": [
    "### Task 4.7: Validation\n",
    "\n",
    "<div class=\"alert alert-block alert-success\"><b>Difficulty level</b>: Low.</div>\n",
    "\n",
    "Ordinarily, at this point I would then output information to confirm that all of the opeations I _think_ I've undertaken were correctly applied."
   ]
  },
  {
   "cell_type": "code",
   "execution_count": null,
   "metadata": {},
   "outputs": [],
   "source": [
    "df.info()"
   ]
  },
  {
   "cell_type": "markdown",
   "metadata": {},
   "source": [
    "### Task 4.8: Saving\n",
    "\n",
    "At this point I would save a copy of the cleaned data. And I would only consider this data _partially_ cleaned since we've not made it any further than just ensuring that each column is in an appropriate format and that some particularly problematic rows have been dropped!"
   ]
  },
  {
   "cell_type": "code",
   "execution_count": null,
   "metadata": {},
   "outputs": [],
   "source": [
    "path = os.path.join('data','clean')\n",
    "\n",
    "if not os.path.exists(path):\n",
    "    print(f\"Creating {path} under {os.getcwd()}\")\n",
    "    os.makedirs(path)\n",
    "    \n",
    "df.to_csv(os.path.join(path,fn), index=False)\n",
    "print(\"Done.\")"
   ]
  },
  {
   "cell_type": "markdown",
   "metadata": {},
   "source": [
    "For the 10k sample, I get that we've reduced the working file size from 44MB to 3.1MB. So this data will be a _lot_ faster to work with for exploratory purposes."
   ]
  },
  {
   "cell_type": "markdown",
   "metadata": {},
   "source": [
    "## Task 5. Selection using Criteria\n",
    "\n",
    "So far we've been taking primarily a row and column view of the data, now we want to think about selecting ranges from within the data set..."
   ]
  },
  {
   "cell_type": "markdown",
   "metadata": {},
   "source": [
    "### Task 5.1: Selecting using Data Types\n",
    "\n",
    "<div class=\"alert alert-block alert-success\"><b>Difficulty level</b>: Low.</div>\n",
    "\n",
    "If we wanted to filter in/out certain columns pandas can do that! Let's try for floats and ints (*hint*: these are 64-bit data types)."
   ]
  },
  {
   "cell_type": "code",
   "execution_count": null,
   "metadata": {},
   "outputs": [],
   "source": [
    "df.select_dtypes(include=[??])"
   ]
  },
  {
   "cell_type": "markdown",
   "metadata": {},
   "source": [
    "### Task 5.2: Selecting using Conditions\n",
    "\n",
    "What if we wanted to find whole homes listings for more than $100/night? \n",
    "\n",
    "To do this we use a combination of the selection approaches above in combination with conditionals, but first we need to see what sort of properties there are in the data set! `groupby` is a really useful function that we'll come back to later in the term, but for now notice that it helps us to group the analysis by `room_type` so that subsequently asking for the `property_type` value counts allows the same `property_type` to appear in more than once place if it's associated with more than one `room_type`."
   ]
  },
  {
   "cell_type": "code",
   "execution_count": null,
   "metadata": {},
   "outputs": [],
   "source": [
    "df.groupby('room_type')['property_type'].value_counts()"
   ]
  },
  {
   "cell_type": "markdown",
   "metadata": {},
   "source": [
    "Now try to select only the `Entire home/apt` room type:"
   ]
  },
  {
   "cell_type": "code",
   "execution_count": null,
   "metadata": {},
   "outputs": [],
   "source": [
    "df[df.??=='??']['property_type'].value_counts().head(10)"
   ]
  },
  {
   "cell_type": "markdown",
   "metadata": {},
   "source": [
    "Your output should be:\n",
    "```\n",
    "Entire rental unit           3907\n",
    "Entire home                   821\n",
    "Entire condo                  246\n",
    "Entire townhouse              161\n",
    "Entire loft                    77\n",
    "Entire serviced apartment      34\n",
    "Entire guest suite             17\n",
    "Entire cottage                  8\n",
    "Entire guesthouse               8\n",
    "Boat                            7\n",
    "```"
   ]
  },
  {
   "cell_type": "markdown",
   "metadata": {},
   "source": [
    "### Task 5.3: Arbitrary Selection Criteria\n",
    "\n",
    "Let's get a sense of where the mean and median value fall:"
   ]
  },
  {
   "cell_type": "code",
   "execution_count": null,
   "metadata": {},
   "outputs": [],
   "source": [
    "print(f\"The mean price is ${df.price.??():0.2f}\")\n",
    "print(f\"The median price is ${df.price.??():0.2f}\")"
   ]
  },
  {
   "cell_type": "markdown",
   "metadata": {},
   "source": [
    "The output should be:\n",
    "```\n",
    "The mean price is $121.25\n",
    "The median price is $80.00\n",
    "```"
   ]
  },
  {
   "cell_type": "markdown",
   "metadata": {},
   "source": [
    "You might want to have a [look at the documentation](http://pandas.pydata.org/pandas-docs/stable/api.html#series): it's rather a long list, but most of your descriptive stats are on that page in the [Cumulative / Descriptive Stats](http://pandas.pydata.org/pandas-docs/stable/api.html#computations-descriptive-stats) section, and there's also lots of information about methods for [strings](http://pandas.pydata.org/pandas-docs/stable/api.html#string-handling) and [categorical data](http://pandas.pydata.org/pandas-docs/stable/api.html#categorical)."
   ]
  },
  {
   "cell_type": "markdown",
   "metadata": {},
   "source": [
    "So I would take `Entire home/apt` as the right value to filter on _together with_ the price per night from the `price` column.  Why don't we set 'pricey' listings to Entire Home/Apartment listings costing more than the mean of $121/night (_note_: this is totally arbitrary)?\n",
    "\n",
    "Here we see two things:\n",
    "\n",
    "1. The use of the bitwise `&` (it's *not* the same as `and`).\n",
    "2. The fact that you need parentheses around the selection in order to make the the `&` work.\n",
    "\n",
    "But this will filter on two criteria simultaneously:"
   ]
  },
  {
   "cell_type": "code",
   "execution_count": null,
   "metadata": {},
   "outputs": [],
   "source": [
    "pricey = df[(??) & (df.price>121)]\n",
    "print(f\"Selected {pricey.shape[0]:,} rows\")"
   ]
  },
  {
   "cell_type": "markdown",
   "metadata": {},
   "source": [
    "You should get: `Selected 2,496 rows`."
   ]
  },
  {
   "cell_type": "markdown",
   "metadata": {},
   "source": [
    "### Task 5.4: Selection with an Aggregate\n",
    "\n",
    "Let's find the cheapest and most expensive listings using `min` and `max` methods:"
   ]
  },
  {
   "cell_type": "code",
   "execution_count": null,
   "metadata": {},
   "outputs": [],
   "source": [
    "df[df.price==df.price.min()][['price','id','listing_url','room_type','description']]"
   ]
  },
  {
   "cell_type": "markdown",
   "metadata": {},
   "source": [
    "You should get row **9924** priced at $10/night!"
   ]
  },
  {
   "cell_type": "code",
   "execution_count": null,
   "metadata": {},
   "outputs": [],
   "source": [
    "df[df.price==df.price.max()][['price','id','listing_url','room_type','description']]"
   ]
  },
  {
   "cell_type": "markdown",
   "metadata": {},
   "source": [
    "You should get row **8194** priced at $8,000/night! \n",
    "\n",
    "<div class=\"alert alert-block alert-danger\"><b>&#9888; Stop</b>: Ask yourself if the result is <em>plausible</em>.</div>\n",
    "\n",
    "**Quick question**: what do you make of this result?\n",
    "\n",
    "**Answer**: ??"
   ]
  },
  {
   "cell_type": "markdown",
   "metadata": {},
   "source": [
    "### Task 5.5: Selection with a Range\n",
    "\n",
    "<div class=\"alert alert-block alert-warning\"><b>Difficulty level</b>: Moderate</div>\n",
    "\n",
    "Perhaps we aren't just looking for extremes... how about all of the properties falling within the middle of the distribution? We can ask for any abitrary quantile we like, so let's go with the 25th and 75th percentile to get the middle 50% of the data. Google how to get percentiles from pandas."
   ]
  },
  {
   "cell_type": "code",
   "execution_count": null,
   "metadata": {},
   "outputs": [],
   "source": [
    "dfr = df[ \n",
    "            (df.price > df.price.quantile(0.25)) & \n",
    "            (df.price < df.price.quantile(0.75)) ]\n",
    "\n",
    "print(f\"Lower Quartile: {df.price.quantile(0.25):>6.2f}\")\n",
    "print(f\"Upper Quartile: {df.price.quantile(0.75):>6.2f}\")\n",
    "print()\n",
    "print(f\"Range selected contains {dfr.shape[0]:,} rows.\")\n",
    "print(f\"Minimum price: {dfr.price.min():>6.2f}\")\n",
    "print(f\"Maximum price: {dfr.price.max():>6.2f}\")"
   ]
  },
  {
   "cell_type": "markdown",
   "metadata": {},
   "source": [
    "That example contains a few things to which you need to pay attention:\n",
    "1. *Again* you can see that, with mutiple selections, we had to put parentheses around each one -- this forces Python to...\n",
    "2. Process the `&` (bit-wise AND) that asks pandas to \"Find all the rows where condition 1 _and_ condition 2 are both `True`\". So it calculates the `True`/`False` for the left side and the `True`/`False` for the right side of the `&`, and then combines them."
   ]
  },
  {
   "cell_type": "markdown",
   "metadata": {},
   "source": [
    "## Task 6: Enhancing our Understanding"
   ]
  },
  {
   "cell_type": "markdown",
   "metadata": {},
   "source": [
    "### Task 6.1 Deriving a New Variable\n",
    "\n",
    "<div class=\"alert alert-block alert-danger\"><b>Difficulty level</b>: &#129327;</div>\n",
    "\n",
    "Let's try calculating several derived measures of distribution for the price... these deliberately demonstrate different ways of handling this process (and notice also the little call to `apply` that can perform additional tasks)."
   ]
  },
  {
   "cell_type": "markdown",
   "metadata": {},
   "source": [
    "#### 6.1.1 The *Z*-Score\n",
    "\n",
    "The z-score is given by $z = (x - \\bar{x})/\\sigma$."
   ]
  },
  {
   "cell_type": "code",
   "execution_count": null,
   "metadata": {},
   "outputs": [],
   "source": [
    "df['z'] = (df.?? - df.??.??()) / df.??.??()\n",
    "df.z.describe().apply(lambda x: f\"{x:5.5f}\")"
   ]
  },
  {
   "cell_type": "markdown",
   "metadata": {},
   "source": [
    "#### 6.1.2 Inter-Quartile Standardisation\n",
    "\n",
    "The IQR-standardised score is given by $i = (x - Q_{1})/(Q_{3} - Q_{1})$"
   ]
  },
  {
   "cell_type": "code",
   "execution_count": null,
   "metadata": {},
   "outputs": [],
   "source": [
    "df['iqs'] = (df.price - ??)/(??-??)\n",
    "df.iqs.describe().apply(lambda x: f\"{x:5.5f}\")"
   ]
  },
  {
   "cell_type": "markdown",
   "metadata": {},
   "source": [
    "#### 6.1.3 Log-Normalisation\n",
    "\n",
    "The natural log of the price is gven by $ln(x)$"
   ]
  },
  {
   "cell_type": "code",
   "execution_count": null,
   "metadata": {},
   "outputs": [],
   "source": [
    "df['lnprice'] = np.log(??)\n",
    "df.lnprice.describe().apply(lambda x: f\"{x:5.5f}\")"
   ]
  },
  {
   "cell_type": "markdown",
   "metadata": {},
   "source": [
    "### Task 6.2. Quick (and Dirty) Plotting\n",
    "\n",
    "One of the first things we should do when exploring a new dataset is plot (aka graph) the data. We've left plotting until a little later in this practical so that we could see some other basic attributes of how pandas stores data. We'll look at plotting and exploratory data analyses in much more detail next week, including using packages other than pandas. \n",
    "\n",
    "For now, let's look at the basic plotting functionality pandas provides - in conjunctions with the online documentation for both [DataFrames](https://pandas.pydata.org/pandas-docs/stable/reference/index.html) and [Series](https://pandas.pydata.org/pandas-docs/stable/reference/index.html). There are also examples of all [the different types of plots pandas can produce](https://pandas.pydata.org/pandas-docs/stable/user_guide/visualization.html)."
   ]
  },
  {
   "cell_type": "markdown",
   "metadata": {},
   "source": [
    "<div class=\"alert alert-block alert-warning\"><b>&#9888; Warning</b>: MacOS users who are <i>not</i> using Docker will need to do certain things in a specific order at the start of any notebook in order to show maps or graphs. Please make a copy of the following code for any notebook that you create and make it the <i>first</i> code that you run in the notebook...</div>\n",
    "\n",
    "```python\n",
    "# Needed on a Mac\n",
    "import matplotlib as mpl\n",
    "mpl.use('TkAgg')\n",
    "%matplotlib inline\n",
    "import matplotlib.pyplot as plt\n",
    "```"
   ]
  },
  {
   "cell_type": "markdown",
   "metadata": {},
   "source": [
    "### Task 6.3: Histograms\n",
    "\n",
    "<div class=\"alert alert-block alert-success\"><b>Difficulty level</b>: Low</div>\n",
    "\n",
    "First, let's see some of the ways we could visualise the distribution of the `Series` in the dataset:"
   ]
  },
  {
   "cell_type": "code",
   "execution_count": null,
   "metadata": {},
   "outputs": [],
   "source": [
    "df.price.plot.hist() # histogram"
   ]
  },
  {
   "cell_type": "markdown",
   "metadata": {},
   "source": [
    "If the code worked properly you should have just created a standard [histogram](https://pandas.pydata.org/pandas-docs/stable/reference/api/pandas.Series.plot.hist.html) plot (if you can't see one, ask for help). \n",
    "\n",
    "You can also pass in simple options to improve the plotting:"
   ]
  },
  {
   "cell_type": "code",
   "execution_count": null,
   "metadata": {},
   "outputs": [],
   "source": [
    "df.price.plot.hist(bins=??); # Notice the ';' here to suppress `<AxesSubplot...>`"
   ]
  },
  {
   "cell_type": "markdown",
   "metadata": {},
   "source": [
    "### Task 6.4: KDE Plots\n",
    "\n",
    "<div class=\"alert alert-block alert-success\"><b>Difficulty level</b>: Low</div>\n",
    "\n",
    "Similarly, we can produce a [Kernel Density Estimate plot](https://pandas.pydata.org/pandas-docs/stable/reference/api/pandas.Series.plot.kde.html) (modifying the limits of the x-axis using `xlim`):"
   ]
  },
  {
   "cell_type": "code",
   "execution_count": null,
   "metadata": {},
   "outputs": [],
   "source": [
    "df.price.plot.kde(xlim=(0,??)); #kernel density estimate plot"
   ]
  },
  {
   "cell_type": "markdown",
   "metadata": {},
   "source": [
    "Kind of handy, no? These aren't the _best_ looking plots, but they are all being generated on-the-fly for you by pandas with no more than a cheery `DataFrame.Series.plot.<plot type>`! Since those plots are all just method calls, many of them take optional parameters to change the colour, the notation (scientific or not), and other options. For example, many of the documentation pages linked to above are rather brief, but include a link to [the general options that can be applied to all `Series.plot`](https://pandas.pydata.org/pandas-docs/stable/reference/api/pandas.Series.plot.html) calls.\n",
    "\n",
    "This is why we like pandas: it allows us to be _constructively lazy_. We don't need to know _how_ a draw a KDE plot (though it always helps if you don't see what you expected), we just need to know that pandas provides a method that will do it for you. And _that_ is why it's always worth having a [look at the documentation](https://pandas.pydata.org/pandas-docs/stable/reference/index.html). \n",
    "\n",
    "#### 6.4.1 A Slight Case of Over-Plotting\n",
    "\n",
    "Generally, Jupyter is clever enough to overlay plots one on top of the other if you call them all in the same cell. We'll see ways to gain more control later, but this is still a good start!"
   ]
  },
  {
   "cell_type": "code",
   "execution_count": null,
   "metadata": {},
   "outputs": [],
   "source": [
    "df.z.plot.kde(xlim=[-2, 10])\n",
    "df.iqs.plot.kde(xlim=[-2, 10])\n",
    "df.lnprice.plot.kde();"
   ]
  },
  {
   "cell_type": "markdown",
   "metadata": {},
   "source": [
    "### Task 6.5: Boxplots\n",
    "\n",
    "<div class=\"alert alert-block alert-success\"><b>Difficulty level</b>: Low</div>\n",
    "\n",
    "A standard [boxplot](https://pandas.pydata.org/pandas-docs/stable/reference/api/pandas.Series.plot.box.html):"
   ]
  },
  {
   "cell_type": "code",
   "execution_count": null,
   "metadata": {},
   "outputs": [],
   "source": [
    "df.price.plot.box(figsize=(4, 8)); # boxplot"
   ]
  },
  {
   "cell_type": "markdown",
   "metadata": {},
   "source": [
    "### Task 6.6: Scatterplots\n",
    "\n",
    "<div class=\"alert alert-block alert-success\"><b>Difficulty level</b>: Low</div>\n",
    "\n",
    "We can also plot two variables in a [scatter plot](http://pandas.pydata.org/pandas-docs/stable/generated/pandas.DataFrame.plot.scatter.html#pandas.DataFrame.plot.scatter) by applying a plot method to the `DataFrame` (not an individual `Series`):"
   ]
  },
  {
   "cell_type": "code",
   "execution_count": null,
   "metadata": {},
   "outputs": [],
   "source": [
    "df.plot.scatter(x='longitude', y='latitude', c='price', s=2, cmap='viridis', figsize=(15,10))"
   ]
  },
  {
   "cell_type": "markdown",
   "metadata": {},
   "source": [
    "Note how the code above has the form `DataFrame.plot.<plot type>`, not `DataFrame.Series.plot.<plot type>` as in the prior plots. Think about why this then means we need the `x` and `y` arguments. \n",
    "\n",
    "Looking at the plot produced, it's hard to see where the high values are, so we might want to think about ways that we could make it easier to spot the big numbers... We could, for instance, also vary the size of the point in a plot by some variable:"
   ]
  },
  {
   "cell_type": "code",
   "execution_count": null,
   "metadata": {},
   "outputs": [],
   "source": [
    "df.plot.scatter(x='longitude', y='latitude', c='price', s=(df.price/df.price.min()), cmap='viridis', figsize=(15,10))"
   ]
  },
  {
   "cell_type": "markdown",
   "metadata": {},
   "source": [
    "And we can plot subsets of our data without creating a new object. See if you can work out what the following code is doing that is different from the last plot:"
   ]
  },
  {
   "cell_type": "code",
   "execution_count": null,
   "metadata": {},
   "outputs": [],
   "source": [
    "df[df.price > df.price.quantile(0.90)].plot.scatter(x='longitude', y='latitude', c='price', cmap='viridis', s=8)"
   ]
  },
  {
   "cell_type": "markdown",
   "metadata": {},
   "source": [
    "### Task 6.7: Hex Bin Plots\n",
    "\n",
    "<div class=\"alert alert-block alert-success\"><b>Difficulty level</b>: Low</div>\n",
    "\n",
    "And pandas allows us to create 'less standard' plots, like a [hex bin plot](http://pandas.pydata.org/pandas-docs/stable/generated/pandas.DataFrame.plot.hexbin.html#pandas.DataFrame.plot.hexbin):"
   ]
  },
  {
   "cell_type": "code",
   "execution_count": null,
   "metadata": {},
   "outputs": [],
   "source": [
    "df.plot.hexbin(x='longitude', y='latitude', gridsize=50, figsize=(10,7))  #hex bin plot"
   ]
  },
  {
   "cell_type": "markdown",
   "metadata": {},
   "source": [
    "That's just a taste of what the basic plotting functionality of pandas can do. Feel free to explore more yourself and we'll also see [the seaborn package](http://seaborn.pydata.org/index.html) later."
   ]
  },
  {
   "cell_type": "markdown",
   "metadata": {},
   "source": [
    "## Credits!\n",
    "\n",
    "#### Contributors:\n",
    "The following individuals have contributed to these teaching materials: James Millington (james.millington@kcl.ac.uk), Jon Reades (jonathan.reades@kcl.ac.uk)\n",
    "\n",
    "#### License\n",
    "These teaching materials are licensed under a mix of [The MIT License](https://opensource.org/licenses/mit-license.php) and the [Creative Commons Attribution-NonCommercial-ShareAlike 4.0 license](https://creativecommons.org/licenses/by-nc-sa/4.0/).\n",
    "\n",
    "#### Acknowledgements:\n",
    "Supported by the [Royal Geographical Society](https://www.rgs.org/HomePage.htm) (with the Institute of British Geographers) with a Ray Y Gildea Jr Award.\n",
    "\n",
    "#### Potential Dependencies:\n",
    "This notebook may depend on the following libraries: pandas, matplotlib"
   ]
  }
 ],
 "metadata": {
  "anaconda-cloud": {},
  "kernelspec": {
   "display_name": "Python 3 (ipykernel)",
   "language": "python",
   "name": "python3"
  },
  "language_info": {
   "codemirror_mode": {
    "name": "ipython",
    "version": 3
   },
   "file_extension": ".py",
   "mimetype": "text/x-python",
   "name": "python",
   "nbconvert_exporter": "python",
   "pygments_lexer": "ipython3",
   "version": "3.10.5"
  }
 },
 "nbformat": 4,
 "nbformat_minor": 4
}
