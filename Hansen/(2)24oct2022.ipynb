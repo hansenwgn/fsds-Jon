{
 "cells": [
  {
   "cell_type": "code",
   "execution_count": 7,
   "id": "6273d0c7-c1c4-4cf6-91df-70370d3e821e",
   "metadata": {},
   "outputs": [
    {
     "data": {
      "text/plain": [
       "True"
      ]
     },
     "execution_count": 7,
     "metadata": {},
     "output_type": "execute_result"
    }
   ],
   "source": [
    "import shapes\n",
    "\n",
    "c = shapes.pyramid(10)\n",
    "c.has_mummies()"
   ]
  },
  {
   "cell_type": "code",
   "execution_count": null,
   "id": "6341a16a-f3d1-4ab5-b058-547474b2554f",
   "metadata": {},
   "outputs": [],
   "source": []
  }
 ],
 "metadata": {
  "kernelspec": {
   "display_name": "Python 3 (ipykernel)",
   "language": "python",
   "name": "python3"
  },
  "language_info": {
   "codemirror_mode": {
    "name": "ipython",
    "version": 3
   },
   "file_extension": ".py",
   "mimetype": "text/x-python",
   "name": "python",
   "nbconvert_exporter": "python",
   "pygments_lexer": "ipython3",
   "version": "3.10.5"
  }
 },
 "nbformat": 4,
 "nbformat_minor": 5
}
