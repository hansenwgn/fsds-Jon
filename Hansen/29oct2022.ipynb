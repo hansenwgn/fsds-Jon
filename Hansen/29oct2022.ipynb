{
 "cells": [
  {
   "cell_type": "code",
   "execution_count": 4,
   "id": "884d382e-4c10-4fc9-ba0e-d41bbc7fe328",
   "metadata": {},
   "outputs": [
    {
     "name": "stdout",
     "output_type": "stream",
     "text": [
      "Initialize myClass\n"
     ]
    },
    {
     "data": {
      "text/plain": [
       "'Myclass'"
      ]
     },
     "execution_count": 4,
     "metadata": {},
     "output_type": "execute_result"
    }
   ],
   "source": [
    "class myClass(object):\n",
    "    def __init__(self, dimension:float=None):\n",
    "        self.shape_type = self.__class__.__name__.capitalize()\n",
    "        self.dim = dimension\n",
    "        print('Initialize myClass')\n",
    "        return\n",
    "    \n",
    "    def print_name(self):\n",
    "        print(self.shape_type)\n",
    "    \n",
    "cc = myClass() #init artinya, ketika initialize sebuah class, otomatis akan dijalankan\n",
    "            #initialized class, ditampung dalam sebuah variable\n",
    "cc.shape_type # -> . artinya mengakses value/function dalam class. Shape_type: variable\n"
   ]
  },
  {
   "cell_type": "code",
   "execution_count": 7,
   "id": "54480528-3e62-4205-80b6-fce9a79bbf6e",
   "metadata": {},
   "outputs": [],
   "source": [
    "#Class bisa punya >1 functions. Sebuah function dalam class, exclusive dalam class tsb\n",
    "\n",
    "# base class shape\n",
    "class shape(object):\n",
    "    def __init__(self, dimension:float=None):\n",
    "        self.shape_type = self.__class__.__name__.capitalize()\n",
    "        self.dim = dimension\n",
    "        return\n",
    "    \n",
    "    def diameter(self):\n",
    "        raise Exception(\"Unimplmented method error.\")\n",
    "    \n",
    "    def volume(self):\n",
    "        raise Exception(\"Unimplmented method error.\")\n",
    "        \n",
    "    def surface(self):\n",
    "        raise Exception(\"Unimplmented method error.\")\n",
    "    \n",
    "    def type(self):\n",
    "        return(self.shape_type)\n",
    "    \n",
    "s = shape()\n",
    "s.dim #default=None"
   ]
  },
  {
   "cell_type": "code",
   "execution_count": 14,
   "id": "4c327ac5-d9b7-4158-8f4d-5cde039a7b1c",
   "metadata": {},
   "outputs": [
    {
     "data": {
      "text/plain": [
       "8"
      ]
     },
     "execution_count": 14,
     "metadata": {},
     "output_type": "execute_result"
    }
   ],
   "source": [
    "#OOP, inheritance class\n",
    "# Cube class\n",
    "class cube(shape): # Inherit from shape \n",
    "    def __init__(self, dim:float):\n",
    "        super().__init__(dim) #super artinya merubah value yg ada di parent class\n",
    "        return\n",
    "    \n",
    "    def diameter(self): #override function, nama sama dengan function di parent class\n",
    "        return (3 * self.dim**2)**(1/2)\n",
    "    \n",
    "    def volume(self):\n",
    "        return self.dim**3\n",
    "    \n",
    "    def surface(self):\n",
    "        return 6*(self.dim**2)\n",
    "    \n",
    "c = cube(2)\n",
    "c.dim\n",
    "c.diameter()\n",
    "c.volume()"
   ]
  },
  {
   "cell_type": "code",
   "execution_count": null,
   "id": "4e3af123-3572-4450-b360-6fc0a5dfc700",
   "metadata": {},
   "outputs": [],
   "source": []
  }
 ],
 "metadata": {
  "kernelspec": {
   "display_name": "Python 3 (ipykernel)",
   "language": "python",
   "name": "python3"
  },
  "language_info": {
   "codemirror_mode": {
    "name": "ipython",
    "version": 3
   },
   "file_extension": ".py",
   "mimetype": "text/x-python",
   "name": "python",
   "nbconvert_exporter": "python",
   "pygments_lexer": "ipython3",
   "version": "3.10.5"
  }
 },
 "nbformat": 4,
 "nbformat_minor": 5
}
