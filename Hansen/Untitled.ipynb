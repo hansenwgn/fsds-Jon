{
 "cells": [
  {
   "cell_type": "code",
   "execution_count": 1,
   "id": "a7676199-2783-4e52-89ed-bfd755853efb",
   "metadata": {},
   "outputs": [
    {
     "data": {
      "text/plain": [
       "{'__name__': '__main__',\n",
       " '__doc__': 'Automatically created module for IPython interactive environment',\n",
       " '__package__': None,\n",
       " '__loader__': None,\n",
       " '__spec__': None,\n",
       " '__builtin__': <module 'builtins' (built-in)>,\n",
       " '__builtins__': <module 'builtins' (built-in)>,\n",
       " '_ih': ['', 'globals()'],\n",
       " '_oh': {1: '[]'},\n",
       " '_dh': [PosixPath('/home/jovyan/work/FSDS2/fsds')],\n",
       " 'In': ['', 'globals()'],\n",
       " 'Out': {1: '[]'},\n",
       " 'get_ipython': <function IPython.core.getipython.get_ipython()>,\n",
       " 'exit': <IPython.core.autocall.ZMQExitAutocall at 0x7f2018b30f70>,\n",
       " 'quit': <IPython.core.autocall.ZMQExitAutocall at 0x7f2018b30f70>,\n",
       " '_': '[]',\n",
       " '__': '',\n",
       " '___': '',\n",
       " 'json': <module 'json' from '/opt/conda/lib/python3.10/json/__init__.py'>,\n",
       " 'sys': <module 'sys' (built-in)>,\n",
       " 'NamespaceMagics': IPython.core.magics.namespace.NamespaceMagics,\n",
       " '_jupyterlab_variableinspector_nms': <IPython.core.magics.namespace.NamespaceMagics at 0x7f201451c490>,\n",
       " '_jupyterlab_variableinspector_Jupyter': <ipykernel.zmqshell.ZMQInteractiveShell at 0x7f2018b33b80>,\n",
       " '__np': None,\n",
       " '__pd': None,\n",
       " '__pyspark': None,\n",
       " '__tf': None,\n",
       " '__K': None,\n",
       " '__torch': None,\n",
       " '__ipywidgets': None,\n",
       " '_check_imported': <function __main__._check_imported()>,\n",
       " '_jupyterlab_variableinspector_getsizeof': <function __main__._jupyterlab_variableinspector_getsizeof(x)>,\n",
       " '_jupyterlab_variableinspector_getshapeof': <function __main__._jupyterlab_variableinspector_getshapeof(x)>,\n",
       " '_jupyterlab_variableinspector_getcontentof': <function __main__._jupyterlab_variableinspector_getcontentof(x)>,\n",
       " '_jupyterlab_variableinspector_is_matrix': <function __main__._jupyterlab_variableinspector_is_matrix(x)>,\n",
       " '_jupyterlab_variableinspector_is_widget': <function __main__._jupyterlab_variableinspector_is_widget(x)>,\n",
       " '_jupyterlab_variableinspector_dict_list': <function __main__._jupyterlab_variableinspector_dict_list()>,\n",
       " '_jupyterlab_variableinspector_getmatrixcontent': <function __main__._jupyterlab_variableinspector_getmatrixcontent(x, max_rows=10000)>,\n",
       " '_jupyterlab_variableinspector_displaywidget': <function __main__._jupyterlab_variableinspector_displaywidget(widget)>,\n",
       " '_jupyterlab_variableinspector_default': <function __main__._jupyterlab_variableinspector_default(o)>,\n",
       " '_jupyterlab_variableinspector_deletevariable': <function __main__._jupyterlab_variableinspector_deletevariable(x)>,\n",
       " '_1': '[]',\n",
       " '_i': '',\n",
       " '_ii': '',\n",
       " '_iii': '',\n",
       " '_i1': 'globals()'}"
      ]
     },
     "execution_count": 1,
     "metadata": {},
     "output_type": "execute_result"
    }
   ],
   "source": [
    "globals()"
   ]
  },
  {
   "cell_type": "code",
   "execution_count": 4,
   "id": "e409a2e9-92fe-44b6-81ec-67ee32cbf479",
   "metadata": {},
   "outputs": [
    {
     "name": "stdout",
     "output_type": "stream",
     "text": [
      "10\n",
      "5\n",
      "10\n"
     ]
    }
   ],
   "source": [
    "def test(x):\n",
    "    return x\n",
    "\n",
    "def test2(y):\n",
    "    global x\n",
    "    return x\n",
    "\n",
    "x = 10\n",
    "\n",
    "print(x)\n",
    "print(test(5))\n",
    "print(test2(5))\n"
   ]
  },
  {
   "cell_type": "code",
   "execution_count": 5,
   "id": "273063ed-65e9-4438-8e56-d3e8064049c9",
   "metadata": {},
   "outputs": [
    {
     "ename": "NameError",
     "evalue": "name 'urlopen' is not defined",
     "output_type": "error",
     "traceback": [
      "\u001b[0;31m---------------------------------------------------------------------------\u001b[0m",
      "\u001b[0;31mNameError\u001b[0m                                 Traceback (most recent call last)",
      "Input \u001b[0;32mIn [5]\u001b[0m, in \u001b[0;36m<cell line: 1>\u001b[0;34m()\u001b[0m\n\u001b[0;32m----> 1\u001b[0m help(\u001b[43murlopen\u001b[49m)\n",
      "\u001b[0;31mNameError\u001b[0m: name 'urlopen' is not defined"
     ]
    }
   ],
   "source": [
    "help(urlopen)"
   ]
  },
  {
   "cell_type": "code",
   "execution_count": 7,
   "id": "aa9c68dd-eb57-4290-a6c2-b5c7d29829d8",
   "metadata": {},
   "outputs": [],
   "source": [
    "url = 'https://github.com/jreades/fsds/blob/master/data/2019-sample-crime.csv'"
   ]
  },
  {
   "cell_type": "code",
   "execution_count": 9,
   "id": "0b4c4080-a15c-46e9-aa2e-266b01e72b5e",
   "metadata": {},
   "outputs": [],
   "source": [
    "from urllib.request import urlopen\n",
    "\n",
    "response = urlopen(url)\n",
    "data = response.read()\n"
   ]
  },
  {
   "cell_type": "code",
   "execution_count": 11,
   "id": "fd99aece-ff7b-4f8c-ae58-159fcd0b75ee",
   "metadata": {},
   "outputs": [
    {
     "data": {
      "text/plain": [
       "bytes"
      ]
     },
     "execution_count": 11,
     "metadata": {},
     "output_type": "execute_result"
    }
   ],
   "source": [
    "type(data)"
   ]
  },
  {
   "cell_type": "code",
   "execution_count": 12,
   "id": "318667c0-c289-4ab4-8455-f7b345dba77b",
   "metadata": {},
   "outputs": [],
   "source": [
    "data = data.decode('utf-8')"
   ]
  },
  {
   "cell_type": "code",
   "execution_count": 13,
   "id": "901e5bf0-370d-49ea-a985-3aedbf50f647",
   "metadata": {},
   "outputs": [
    {
     "data": {
      "text/plain": [
       "str"
      ]
     },
     "execution_count": 13,
     "metadata": {},
     "output_type": "execute_result"
    }
   ],
   "source": [
    "type(data)"
   ]
  },
  {
   "cell_type": "code",
   "execution_count": 14,
   "id": "c95a3354-768e-453b-a34c-0c4fdc6cd2a8",
   "metadata": {},
   "outputs": [
    {
     "name": "stdout",
     "output_type": "stream",
     "text": [
      "197362\n"
     ]
    }
   ],
   "source": [
    "print(len(data))"
   ]
  },
  {
   "cell_type": "code",
   "execution_count": 18,
   "id": "23a586f1-dfe9-4aeb-b8a0-c238b7838f8c",
   "metadata": {},
   "outputs": [
    {
     "ename": "NameError",
     "evalue": "name 'rows' is not defined",
     "output_type": "error",
     "traceback": [
      "\u001b[0;31m---------------------------------------------------------------------------\u001b[0m",
      "\u001b[0;31mNameError\u001b[0m                                 Traceback (most recent call last)",
      "Input \u001b[0;32mIn [18]\u001b[0m, in \u001b[0;36m<cell line: 1>\u001b[0;34m()\u001b[0m\n\u001b[0;32m----> 1\u001b[0m \u001b[38;5;28mprint\u001b[39m(\u001b[43mrows\u001b[49m(\u001b[38;5;241m0\u001b[39m))\n",
      "\u001b[0;31mNameError\u001b[0m: name 'rows' is not defined"
     ]
    }
   ],
   "source": [
    "print(rows(0))"
   ]
  },
  {
   "cell_type": "code",
   "execution_count": null,
   "id": "aee3a351-2584-42cd-8c26-d632b99e6129",
   "metadata": {},
   "outputs": [],
   "source": [
    "for r in row:\n",
    "    c = r.split(',')\n",
    "    csvdata.append(C)"
   ]
  }
 ],
 "metadata": {
  "kernelspec": {
   "display_name": "Python 3 (ipykernel)",
   "language": "python",
   "name": "python3"
  },
  "language_info": {
   "codemirror_mode": {
    "name": "ipython",
    "version": 3
   },
   "file_extension": ".py",
   "mimetype": "text/x-python",
   "name": "python",
   "nbconvert_exporter": "python",
   "pygments_lexer": "ipython3",
   "version": "3.10.5"
  }
 },
 "nbformat": 4,
 "nbformat_minor": 5
}
