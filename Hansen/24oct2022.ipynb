{
 "cells": [
  {
   "cell_type": "code",
   "execution_count": 53,
   "id": "7ff408f7-0fb2-4bf7-b74b-a40c5d71f2a8",
   "metadata": {},
   "outputs": [],
   "source": [
    "#Class bisa punya >1 functions. Sebuah function dalam class, exclusive dalam class tsb\n",
    "\n",
    "# base class shape\n",
    "class shape(object):\n",
    "    def __init__(self, dimension:float=None):\n",
    "        self.shape_type = self.__class__.__name__.capitalize()\n",
    "        self.dim = dimension\n",
    "        return\n",
    "    \n",
    "    def diameter(self):\n",
    "        raise Exception(\"Unimplmented method error.\")\n",
    "    \n",
    "    def volume(self):\n",
    "        raise Exception(\"Unimplmented method error.\")\n",
    "        \n",
    "    def surface(self):\n",
    "        raise Exception(\"Unimplmented method error.\")\n",
    "    \n",
    "    def type(self):\n",
    "        return(self.shape_type)"
   ]
  },
  {
   "cell_type": "code",
   "execution_count": 62,
   "id": "c871fac2-f167-44a5-8eaf-b4d63bfac4fb",
   "metadata": {},
   "outputs": [
    {
     "data": {
      "text/plain": [
       "'Shape'"
      ]
     },
     "execution_count": 62,
     "metadata": {},
     "output_type": "execute_result"
    }
   ],
   "source": [
    "s = shape('Tes')\n",
    "s.shape_type\n",
    "s.dim\n",
    "s.__class__.__name__.capitalize()"
   ]
  },
  {
   "cell_type": "code",
   "execution_count": 40,
   "id": "093bc6dd-adb1-43a9-93e6-758623d55451",
   "metadata": {},
   "outputs": [
    {
     "ename": "Exception",
     "evalue": "Unimplmented method error.",
     "output_type": "error",
     "traceback": [
      "\u001b[0;31m---------------------------------------------------------------------------\u001b[0m",
      "\u001b[0;31mException\u001b[0m                                 Traceback (most recent call last)",
      "Input \u001b[0;32mIn [40]\u001b[0m, in \u001b[0;36m<cell line: 1>\u001b[0;34m()\u001b[0m\n\u001b[0;32m----> 1\u001b[0m \u001b[43ms\u001b[49m\u001b[38;5;241;43m.\u001b[39;49m\u001b[43mdiameter\u001b[49m\u001b[43m(\u001b[49m\u001b[43m)\u001b[49m\n",
      "Input \u001b[0;32mIn [38]\u001b[0m, in \u001b[0;36mshape.diameter\u001b[0;34m(self)\u001b[0m\n\u001b[1;32m      8\u001b[0m \u001b[38;5;28;01mdef\u001b[39;00m \u001b[38;5;21mdiameter\u001b[39m(\u001b[38;5;28mself\u001b[39m):\n\u001b[0;32m----> 9\u001b[0m     \u001b[38;5;28;01mraise\u001b[39;00m \u001b[38;5;167;01mException\u001b[39;00m(\u001b[38;5;124m\"\u001b[39m\u001b[38;5;124mUnimplmented method error.\u001b[39m\u001b[38;5;124m\"\u001b[39m)\n",
      "\u001b[0;31mException\u001b[0m: Unimplmented method error."
     ]
    }
   ],
   "source": [
    "s.diameter()"
   ]
  },
  {
   "cell_type": "code",
   "execution_count": 41,
   "id": "5b81f4a1-91d9-44a5-85f9-233547afdd3d",
   "metadata": {},
   "outputs": [],
   "source": [
    "class cube(shape):\n",
    "    def __init__(self, dim:float):\n",
    "        super().__init__(dim)\n",
    "        return\n",
    "    \n",
    "    def diameter(self):\n",
    "        return (3 * self.dim**2)**(1/2)"
   ]
  },
  {
   "cell_type": "code",
   "execution_count": 42,
   "id": "7525a68e-200d-409f-842f-5521a470217c",
   "metadata": {},
   "outputs": [],
   "source": [
    "c = cube(10)"
   ]
  },
  {
   "cell_type": "code",
   "execution_count": 43,
   "id": "2499b8ed-eb4d-405d-bbf9-cb43582e1608",
   "metadata": {},
   "outputs": [
    {
     "data": {
      "text/plain": [
       "17.320508075688775"
      ]
     },
     "execution_count": 43,
     "metadata": {},
     "output_type": "execute_result"
    }
   ],
   "source": [
    "c.diameter()"
   ]
  },
  {
   "cell_type": "code",
   "execution_count": 44,
   "id": "64d27479-1101-480d-bcc9-9345d4ef52b9",
   "metadata": {},
   "outputs": [],
   "source": [
    "class sphere(shape):\n",
    "    def __init__(self, dim:float):\n",
    "        super().__init__(dim)\n",
    "        return\n",
    "    \n",
    "    def diameter(self):\n",
    "        return self.dim*2"
   ]
  },
  {
   "cell_type": "code",
   "execution_count": 45,
   "id": "8f84f3ba-76f0-40f4-ab44-003b2064d790",
   "metadata": {},
   "outputs": [
    {
     "name": "stdout",
     "output_type": "stream",
     "text": [
      "20\n",
      "30\n"
     ]
    }
   ],
   "source": [
    "s = sphere(10)\n",
    "s1 = sphere(15)\n",
    "print(s.diameter())\n",
    "print(s1.diameter())"
   ]
  },
  {
   "cell_type": "code",
   "execution_count": 46,
   "id": "8f94acd0-5217-40dd-b432-d6802dedd73a",
   "metadata": {},
   "outputs": [
    {
     "name": "stdout",
     "output_type": "stream",
     "text": [
      "The shape has diameter 20\n"
     ]
    }
   ],
   "source": [
    "print(f\"The shape has diameter {s.diameter()}\")"
   ]
  },
  {
   "cell_type": "code",
   "execution_count": 47,
   "id": "c23228f3-06db-40a0-a705-f5d4edbd03b1",
   "metadata": {},
   "outputs": [
    {
     "name": "stdout",
     "output_type": "stream",
     "text": [
      "<class 'list'>\n",
      "<class 'list'>\n"
     ]
    }
   ],
   "source": [
    "l1 = []\n",
    "l2 = list()\n",
    "\n",
    "print(type(l1))\n",
    "print(type(l2))"
   ]
  },
  {
   "cell_type": "code",
   "execution_count": 14,
   "id": "3f3cde1d-191a-4d81-8ee4-a93dd861d992",
   "metadata": {},
   "outputs": [
    {
     "data": {
      "text/plain": [
       "['__add__',\n",
       " '__class__',\n",
       " '__class_getitem__',\n",
       " '__contains__',\n",
       " '__delattr__',\n",
       " '__delitem__',\n",
       " '__dir__',\n",
       " '__doc__',\n",
       " '__eq__',\n",
       " '__format__',\n",
       " '__ge__',\n",
       " '__getattribute__',\n",
       " '__getitem__',\n",
       " '__gt__',\n",
       " '__hash__',\n",
       " '__iadd__',\n",
       " '__imul__',\n",
       " '__init__',\n",
       " '__init_subclass__',\n",
       " '__iter__',\n",
       " '__le__',\n",
       " '__len__',\n",
       " '__lt__',\n",
       " '__mul__',\n",
       " '__ne__',\n",
       " '__new__',\n",
       " '__reduce__',\n",
       " '__reduce_ex__',\n",
       " '__repr__',\n",
       " '__reversed__',\n",
       " '__rmul__',\n",
       " '__setattr__',\n",
       " '__setitem__',\n",
       " '__sizeof__',\n",
       " '__str__',\n",
       " '__subclasshook__',\n",
       " 'append',\n",
       " 'clear',\n",
       " 'copy',\n",
       " 'count',\n",
       " 'extend',\n",
       " 'index',\n",
       " 'insert',\n",
       " 'pop',\n",
       " 'remove',\n",
       " 'reverse',\n",
       " 'sort']"
      ]
     },
     "execution_count": 14,
     "metadata": {},
     "output_type": "execute_result"
    }
   ],
   "source": [
    "dir(l1)"
   ]
  },
  {
   "cell_type": "code",
   "execution_count": 15,
   "id": "c96eadf4-cae6-4f8b-8fd3-0e790845eb6d",
   "metadata": {},
   "outputs": [
    {
     "name": "stdout",
     "output_type": "stream",
     "text": [
      "Help on built-in function count:\n",
      "\n",
      "count(value, /) method of builtins.list instance\n",
      "    Return number of occurrences of value.\n",
      "\n"
     ]
    }
   ],
   "source": [
    "help(l1.count)"
   ]
  },
  {
   "cell_type": "code",
   "execution_count": 30,
   "id": "5d2d351e-e7ec-4402-bfe4-5af7849f630b",
   "metadata": {},
   "outputs": [],
   "source": [
    "class pyramid(shape):\n",
    "    \n",
    "    is_haunted = True\n",
    "    \n",
    "    def __init__(self, dim:float):\n",
    "        super().__init__(dim)\n",
    "        self.shape_type = 'Regular Pyramid'\n",
    "        return\n",
    "    \n",
    "    def has_mummies(self):\n",
    "        return self.is_haunted"
   ]
  },
  {
   "cell_type": "code",
   "execution_count": 31,
   "id": "46fb80f1-43fe-46e1-b818-b85ffa538a75",
   "metadata": {},
   "outputs": [
    {
     "data": {
      "text/plain": [
       "True"
      ]
     },
     "execution_count": 31,
     "metadata": {},
     "output_type": "execute_result"
    }
   ],
   "source": [
    "p = pyramid(10)\n",
    "p.has_mummies()"
   ]
  },
  {
   "cell_type": "code",
   "execution_count": 36,
   "id": "04469b68-bda9-47f0-9389-22faae94ad73",
   "metadata": {},
   "outputs": [],
   "source": [
    "class tpyramid(pyramid):\n",
    "    \n",
    "    is_haunted = False\n",
    "    \n",
    "    def __init__(self, dim:float):\n",
    "        super().__init__(dim)\n",
    "        self.shape_type = \"Triangular Pyramid\"\n",
    "        return"
   ]
  },
  {
   "cell_type": "code",
   "execution_count": 52,
   "id": "0cffbb40-b8b9-431f-ba41-748c75e720ac",
   "metadata": {},
   "outputs": [
    {
     "name": "stdout",
     "output_type": "stream",
     "text": [
      "False\n",
      "False\n",
      "True\n"
     ]
    }
   ],
   "source": [
    "t = tpyramid(20)\n",
    "print(t.has_mummies())\n",
    "t.is_haunted = True\n",
    "\n",
    "t1 = tpyramid(25)\n",
    "print(t1.has_mummies())\n",
    "print(t.has_mummies())\n",
    "\n",
    "#it's because each object is independent"
   ]
  },
  {
   "cell_type": "code",
   "execution_count": 48,
   "id": "becd50ed-578a-4f57-966d-edc3f56237e1",
   "metadata": {},
   "outputs": [
    {
     "name": "stdout",
     "output_type": "stream",
     "text": [
      " 17Oct2022.ipynb\t\t      Practical-02-Foundations_1.ipynb\n",
      " 24oct2022.ipynb\t\t      Practical-03-Foundations_2.ipynb\n",
      "'Note: Quantitative Revolution'       Practical-04-Objects.ipynb\n",
      " Paper_Quantitative.md\t\t      README.md\n",
      " Paper_Quantitative_Revo.md\t      Untitled.ipynb\n",
      " Practical-01-Getting_Started.ipynb   test.md\n"
     ]
    }
   ],
   "source": [
    "!ls"
   ]
  },
  {
   "cell_type": "code",
   "execution_count": 49,
   "id": "9ee53213-b59a-43cc-9aa6-c89aa8a0134a",
   "metadata": {},
   "outputs": [],
   "source": [
    "!mkdir shapes"
   ]
  },
  {
   "cell_type": "code",
   "execution_count": 50,
   "id": "03e2f148-b598-4378-a2ba-abe123049fef",
   "metadata": {},
   "outputs": [
    {
     "name": "stdout",
     "output_type": "stream",
     "text": [
      "usage: git [--version] [--help] [-C <path>] [-c <name>=<value>]\n",
      "           [--exec-path[=<path>]] [--html-path] [--man-path] [--info-path]\n",
      "           [-p | --paginate | -P | --no-pager] [--no-replace-objects] [--bare]\n",
      "           [--git-dir=<path>] [--work-tree=<path>] [--namespace=<name>]\n",
      "           <command> [<args>]\n",
      "\n",
      "These are common Git commands used in various situations:\n",
      "\n",
      "start a working area (see also: git help tutorial)\n",
      "   clone             Clone a repository into a new directory\n",
      "   init              Create an empty Git repository or reinitialize an existing one\n",
      "\n",
      "work on the current change (see also: git help everyday)\n",
      "   add               Add file contents to the index\n",
      "   mv                Move or rename a file, a directory, or a symlink\n",
      "   restore           Restore working tree files\n",
      "   rm                Remove files from the working tree and from the index\n",
      "   sparse-checkout   Initialize and modify the sparse-checkout\n",
      "\n",
      "examine the history and state (see also: git help revisions)\n",
      "   bisect            Use binary search to find the commit that introduced a bug\n",
      "   diff              Show changes between commits, commit and working tree, etc\n",
      "   grep              Print lines matching a pattern\n",
      "   log               Show commit logs\n",
      "   show              Show various types of objects\n",
      "   status            Show the working tree status\n",
      "\n",
      "grow, mark and tweak your common history\n",
      "   branch            List, create, or delete branches\n",
      "   commit            Record changes to the repository\n",
      "   merge             Join two or more development histories together\n",
      "   rebase            Reapply commits on top of another base tip\n",
      "   reset             Reset current HEAD to the specified state\n",
      "   switch            Switch branches\n",
      "   tag               Create, list, delete or verify a tag object signed with GPG\n",
      "\n",
      "collaborate (see also: git help workflows)\n",
      "   fetch             Download objects and refs from another repository\n",
      "   pull              Fetch from and integrate with another repository or a local branch\n",
      "   push              Update remote refs along with associated objects\n",
      "\n",
      "'git help -a' and 'git help -g' list available subcommands and some\n",
      "concept guides. See 'git help <command>' or 'git help <concept>'\n",
      "to read about a specific subcommand or concept.\n",
      "See 'git help git' for an overview of the system.\n"
     ]
    }
   ],
   "source": [
    "!git --help"
   ]
  },
  {
   "cell_type": "code",
   "execution_count": 51,
   "id": "ad9bf4d4-0cc0-429a-a32d-20c13c912cd6",
   "metadata": {},
   "outputs": [
    {
     "name": "stdout",
     "output_type": "stream",
     "text": [
      "[NbConvertApp] Converting notebook 24oct2022.ipynb to python\n",
      "[NbConvertApp] Writing 2042 bytes to shapes/__init__.py\n"
     ]
    }
   ],
   "source": [
    "!jupyter nbconvert --ClearOutputPreprocessor.enabled=True \\\n",
    "    --to python --output=shapes/__init__.py \\\n",
    "    24oct2022.ipynb\n"
   ]
  },
  {
   "cell_type": "code",
   "execution_count": null,
   "id": "b032a46d-f0e5-46df-a3fe-96eb8af7294f",
   "metadata": {},
   "outputs": [],
   "source": []
  }
 ],
 "metadata": {
  "kernelspec": {
   "display_name": "Python 3 (ipykernel)",
   "language": "python",
   "name": "python3"
  },
  "language_info": {
   "codemirror_mode": {
    "name": "ipython",
    "version": 3
   },
   "file_extension": ".py",
   "mimetype": "text/x-python",
   "name": "python",
   "nbconvert_exporter": "python",
   "pygments_lexer": "ipython3",
   "version": "3.10.5"
  }
 },
 "nbformat": 4,
 "nbformat_minor": 5
}
